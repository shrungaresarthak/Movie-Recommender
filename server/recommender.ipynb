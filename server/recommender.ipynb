{
 "cells": [
  {
   "cell_type": "code",
   "execution_count": 1,
   "id": "91bfdac5",
   "metadata": {},
   "outputs": [],
   "source": [
    "import pandas as pd\n",
    "import numpy as np\n",
    "from sklearn.metrics.pairwise import cosine_similarity\n",
    "import requests\n",
    "from bs4 import BeautifulSoup\n",
    "import pickle"
   ]
  },
  {
   "cell_type": "code",
   "execution_count": 71,
   "id": "d80f4f14",
   "metadata": {},
   "outputs": [],
   "source": [
    "sentiment = pickle.load(open('nlp.pkl','rb'))\n",
    "vectorizer = pickle.load(open('transform.pkl','rb'))"
   ]
  },
  {
   "cell_type": "code",
   "execution_count": 2,
   "id": "035da75c",
   "metadata": {},
   "outputs": [],
   "source": [
    "df = pd.read_csv('TMDB_Final.csv')"
   ]
  },
  {
   "cell_type": "code",
   "execution_count": 3,
   "id": "23dc38d2",
   "metadata": {},
   "outputs": [
    {
     "data": {
      "text/html": [
       "<div>\n",
       "<style scoped>\n",
       "    .dataframe tbody tr th:only-of-type {\n",
       "        vertical-align: middle;\n",
       "    }\n",
       "\n",
       "    .dataframe tbody tr th {\n",
       "        vertical-align: top;\n",
       "    }\n",
       "\n",
       "    .dataframe thead th {\n",
       "        text-align: right;\n",
       "    }\n",
       "</style>\n",
       "<table border=\"1\" class=\"dataframe\">\n",
       "  <thead>\n",
       "    <tr style=\"text-align: right;\">\n",
       "      <th></th>\n",
       "      <th>Unnamed: 0.1</th>\n",
       "      <th>Unnamed: 0</th>\n",
       "      <th>id</th>\n",
       "      <th>title</th>\n",
       "      <th>overview</th>\n",
       "      <th>popularity</th>\n",
       "      <th>vote_average</th>\n",
       "      <th>vote_count</th>\n",
       "      <th>release_date</th>\n",
       "      <th>keywords</th>\n",
       "      <th>genres</th>\n",
       "      <th>cast</th>\n",
       "      <th>crew</th>\n",
       "    </tr>\n",
       "  </thead>\n",
       "  <tbody>\n",
       "    <tr>\n",
       "      <th>2319</th>\n",
       "      <td>2319</td>\n",
       "      <td>2319</td>\n",
       "      <td>268</td>\n",
       "      <td>Batman (1989)</td>\n",
       "      <td>Batman must face his most ruthless nemesis whe...</td>\n",
       "      <td>53.219</td>\n",
       "      <td>7.2</td>\n",
       "      <td>5959</td>\n",
       "      <td>1989-06-23</td>\n",
       "      <td>['double life', 'dc comics', 'dual identity', ...</td>\n",
       "      <td>['Fantasy', 'Action']</td>\n",
       "      <td>['Michael Keaton', 'Jack Nicholson', 'Kim Basi...</td>\n",
       "      <td>['Tim Burton']</td>\n",
       "    </tr>\n",
       "  </tbody>\n",
       "</table>\n",
       "</div>"
      ],
      "text/plain": [
       "      Unnamed: 0.1  Unnamed: 0   id          title  \\\n",
       "2319          2319        2319  268  Batman (1989)   \n",
       "\n",
       "                                               overview  popularity  \\\n",
       "2319  Batman must face his most ruthless nemesis whe...      53.219   \n",
       "\n",
       "      vote_average  vote_count release_date  \\\n",
       "2319           7.2        5959   1989-06-23   \n",
       "\n",
       "                                               keywords  \\\n",
       "2319  ['double life', 'dc comics', 'dual identity', ...   \n",
       "\n",
       "                     genres  \\\n",
       "2319  ['Fantasy', 'Action']   \n",
       "\n",
       "                                                   cast            crew  \n",
       "2319  ['Michael Keaton', 'Jack Nicholson', 'Kim Basi...  ['Tim Burton']  "
      ]
     },
     "execution_count": 3,
     "metadata": {},
     "output_type": "execute_result"
    }
   ],
   "source": [
    "df[df['title']=='Batman (1989)']"
   ]
  },
  {
   "cell_type": "code",
   "execution_count": 4,
   "id": "e33e265c",
   "metadata": {},
   "outputs": [],
   "source": [
    "main_features = df[['id','title','genres','overview','crew','keywords','cast','vote_average']]"
   ]
  },
  {
   "cell_type": "code",
   "execution_count": 5,
   "id": "6265702a",
   "metadata": {},
   "outputs": [],
   "source": [
    "main_features_copy = main_features.copy()\n",
    "main_features_copy.dropna(inplace=True)"
   ]
  },
  {
   "cell_type": "code",
   "execution_count": 6,
   "id": "ec9ecbc7",
   "metadata": {},
   "outputs": [
    {
     "data": {
      "text/plain": [
       "2"
      ]
     },
     "execution_count": 6,
     "metadata": {},
     "output_type": "execute_result"
    }
   ],
   "source": [
    "main_features_copy['title'].duplicated().sum()"
   ]
  },
  {
   "cell_type": "code",
   "execution_count": 7,
   "id": "86d28a2a",
   "metadata": {},
   "outputs": [],
   "source": [
    "main_features_copy['genres']=main_features_copy['genres'].apply(lambda x : x.replace('Science Fiction','Sci-Fi'))"
   ]
  },
  {
   "cell_type": "code",
   "execution_count": 8,
   "id": "8e3ef59f",
   "metadata": {},
   "outputs": [],
   "source": [
    "main_features_copy['genres']=main_features_copy['genres'].apply(lambda x:x.replace(\"'\",'').replace(\" \",'').strip('[]'))\n",
    "main_features_copy['cast']=main_features_copy['cast'].apply(lambda x:x.replace(\"'\",'').replace(\" \",'').strip('[]'))\n",
    "main_features_copy['keywords']=main_features_copy['keywords'].apply(lambda x:x.replace(\"'\",'').replace(\" \",'').strip('[]'))   "
   ]
  },
  {
   "cell_type": "code",
   "execution_count": 9,
   "id": "b7538bca",
   "metadata": {},
   "outputs": [],
   "source": [
    "cast = main_features_copy['cast']"
   ]
  },
  {
   "cell_type": "code",
   "execution_count": 10,
   "id": "50a5e1f4",
   "metadata": {},
   "outputs": [
    {
     "data": {
      "text/plain": [
       "'ShahRukhKhan,Kajol,AmrishPuri,AnupamKher,SatishShah,FaridaJalal,AchalaSachdev'"
      ]
     },
     "execution_count": 10,
     "metadata": {},
     "output_type": "execute_result"
    }
   ],
   "source": [
    "cast[0]"
   ]
  },
  {
   "cell_type": "code",
   "execution_count": 11,
   "id": "46d3495a",
   "metadata": {},
   "outputs": [
    {
     "data": {
      "text/plain": [
       "'TimRobbins,MorganFreeman,BobGunton,WilliamSadler,ClancyBrown,GilBellows,MarkRolston'"
      ]
     },
     "execution_count": 11,
     "metadata": {},
     "output_type": "execute_result"
    }
   ],
   "source": [
    "cast[1]"
   ]
  },
  {
   "cell_type": "code",
   "execution_count": 12,
   "id": "cf696986",
   "metadata": {},
   "outputs": [
    {
     "data": {
      "text/html": [
       "<div>\n",
       "<style scoped>\n",
       "    .dataframe tbody tr th:only-of-type {\n",
       "        vertical-align: middle;\n",
       "    }\n",
       "\n",
       "    .dataframe tbody tr th {\n",
       "        vertical-align: top;\n",
       "    }\n",
       "\n",
       "    .dataframe thead th {\n",
       "        text-align: right;\n",
       "    }\n",
       "</style>\n",
       "<table border=\"1\" class=\"dataframe\">\n",
       "  <thead>\n",
       "    <tr style=\"text-align: right;\">\n",
       "      <th></th>\n",
       "      <th>id</th>\n",
       "      <th>title</th>\n",
       "      <th>genres</th>\n",
       "      <th>overview</th>\n",
       "      <th>crew</th>\n",
       "      <th>keywords</th>\n",
       "      <th>cast</th>\n",
       "      <th>vote_average</th>\n",
       "    </tr>\n",
       "  </thead>\n",
       "  <tbody>\n",
       "    <tr>\n",
       "      <th>0</th>\n",
       "      <td>19404</td>\n",
       "      <td>Dilwale Dulhania Le Jayenge</td>\n",
       "      <td>Comedy,Drama,Romance</td>\n",
       "      <td>Raj is a rich, carefree, happy-go-lucky second...</td>\n",
       "      <td>['Aditya Chopra']</td>\n",
       "      <td></td>\n",
       "      <td>ShahRukhKhan,Kajol,AmrishPuri,AnupamKher,Satis...</td>\n",
       "      <td>8.7</td>\n",
       "    </tr>\n",
       "    <tr>\n",
       "      <th>1</th>\n",
       "      <td>278</td>\n",
       "      <td>The Shawshank Redemption</td>\n",
       "      <td>Drama,Crime</td>\n",
       "      <td>Framed in the 1940s for the double murder of h...</td>\n",
       "      <td>['Frank Darabont']</td>\n",
       "      <td>prison,corruption,policebrutality,prisoncell,d...</td>\n",
       "      <td>TimRobbins,MorganFreeman,BobGunton,WilliamSadl...</td>\n",
       "      <td>8.7</td>\n",
       "    </tr>\n",
       "    <tr>\n",
       "      <th>2</th>\n",
       "      <td>238</td>\n",
       "      <td>The Godfather</td>\n",
       "      <td>Drama,Crime</td>\n",
       "      <td>Spanning the years 1945 to 1955, a chronicle o...</td>\n",
       "      <td>['Francis Ford Coppola']</td>\n",
       "      <td>italy,lossoflovedone,loveatfirstsight,italiana...</td>\n",
       "      <td>MarlonBrando,AlPacino,JamesCaan,RobertDuvall,R...</td>\n",
       "      <td>8.7</td>\n",
       "    </tr>\n",
       "    <tr>\n",
       "      <th>3</th>\n",
       "      <td>724089</td>\n",
       "      <td>Gabriel's Inferno Part II</td>\n",
       "      <td>Romance</td>\n",
       "      <td>Professor Gabriel Emerson finally learns the t...</td>\n",
       "      <td>['Tosca Musk']</td>\n",
       "      <td>basedonnovelorbook</td>\n",
       "      <td>MelanieZanetti,GiulioBerruti,JamesAndrewFraser...</td>\n",
       "      <td>8.6</td>\n",
       "    </tr>\n",
       "    <tr>\n",
       "      <th>4</th>\n",
       "      <td>424</td>\n",
       "      <td>Schindler's List</td>\n",
       "      <td>Drama,History,War</td>\n",
       "      <td>The true story of how businessman Oskar Schind...</td>\n",
       "      <td>['Steven Spielberg']</td>\n",
       "      <td>basedonnovelorbook,factory,concentrationcamp,h...</td>\n",
       "      <td>LiamNeeson,BenKingsley,RalphFiennes,CarolineGo...</td>\n",
       "      <td>8.6</td>\n",
       "    </tr>\n",
       "    <tr>\n",
       "      <th>...</th>\n",
       "      <td>...</td>\n",
       "      <td>...</td>\n",
       "      <td>...</td>\n",
       "      <td>...</td>\n",
       "      <td>...</td>\n",
       "      <td>...</td>\n",
       "      <td>...</td>\n",
       "      <td>...</td>\n",
       "    </tr>\n",
       "    <tr>\n",
       "      <th>9475</th>\n",
       "      <td>21435</td>\n",
       "      <td>French Fried Vacation 3</td>\n",
       "      <td>Comedy</td>\n",
       "      <td>After the Club Med and skiing, what happened t...</td>\n",
       "      <td>['Patrice Leconte']</td>\n",
       "      <td>holiday,sardinia,italy,sequel,reunion,luxuryhotel</td>\n",
       "      <td>JosianeBalasko,MichelBlanc,Marie-AnneChazel,Ch...</td>\n",
       "      <td>4.1</td>\n",
       "    </tr>\n",
       "    <tr>\n",
       "      <th>9476</th>\n",
       "      <td>17711</td>\n",
       "      <td>The Adventures of Rocky &amp; Bullwinkle</td>\n",
       "      <td>Family,Adventure,Animation,Comedy,Fantasy</td>\n",
       "      <td>Rocky and Bullwinkle have been living off the ...</td>\n",
       "      <td>['Des McAnuff']</td>\n",
       "      <td>helicopter,police,cartoon,roadtrip,carcrash,ja...</td>\n",
       "      <td>ReneRusso,JasonAlexander,PiperPerabo,RandyQuai...</td>\n",
       "      <td>4.1</td>\n",
       "    </tr>\n",
       "    <tr>\n",
       "      <th>9477</th>\n",
       "      <td>17532</td>\n",
       "      <td>S. Darko</td>\n",
       "      <td>Thriller,Crime,Sci-Fi,Mystery</td>\n",
       "      <td>S. Darko follows Samantha Darko, the younger s...</td>\n",
       "      <td>['Chris Fisher']</td>\n",
       "      <td>sequel,stranded,endoftheworld,shatteredhome,bi...</td>\n",
       "      <td>DaveighChase,ElizabethBerkley,BrianaEvigan,Jam...</td>\n",
       "      <td>4.1</td>\n",
       "    </tr>\n",
       "    <tr>\n",
       "      <th>9478</th>\n",
       "      <td>13908</td>\n",
       "      <td>The Master of Disguise</td>\n",
       "      <td>Comedy,Family</td>\n",
       "      <td>A sweet-natured Italian waiter named Pistachio...</td>\n",
       "      <td>['Perry Andelin Blake']</td>\n",
       "      <td>disguise,aftercreditsstinger,duringcreditsstinger</td>\n",
       "      <td>DanaCarvey,BrentSpiner,JenniferEsposito,Harold...</td>\n",
       "      <td>4.0</td>\n",
       "    </tr>\n",
       "    <tr>\n",
       "      <th>9479</th>\n",
       "      <td>580</td>\n",
       "      <td>Jaws: The Revenge</td>\n",
       "      <td>Adventure,Thriller,Horror</td>\n",
       "      <td>After another deadly shark attack, Ellen Brody...</td>\n",
       "      <td>['Joseph Sargent']</td>\n",
       "      <td>sharkattack,bahamas,dyinganddeath,animalattack...</td>\n",
       "      <td>LorraineGary,LanceGuest,MarioVanPeebles,Michae...</td>\n",
       "      <td>4.0</td>\n",
       "    </tr>\n",
       "  </tbody>\n",
       "</table>\n",
       "<p>9464 rows × 8 columns</p>\n",
       "</div>"
      ],
      "text/plain": [
       "          id                                 title  \\\n",
       "0      19404           Dilwale Dulhania Le Jayenge   \n",
       "1        278              The Shawshank Redemption   \n",
       "2        238                         The Godfather   \n",
       "3     724089             Gabriel's Inferno Part II   \n",
       "4        424                      Schindler's List   \n",
       "...      ...                                   ...   \n",
       "9475   21435               French Fried Vacation 3   \n",
       "9476   17711  The Adventures of Rocky & Bullwinkle   \n",
       "9477   17532                              S. Darko   \n",
       "9478   13908                The Master of Disguise   \n",
       "9479     580                     Jaws: The Revenge   \n",
       "\n",
       "                                         genres  \\\n",
       "0                          Comedy,Drama,Romance   \n",
       "1                                   Drama,Crime   \n",
       "2                                   Drama,Crime   \n",
       "3                                       Romance   \n",
       "4                             Drama,History,War   \n",
       "...                                         ...   \n",
       "9475                                     Comedy   \n",
       "9476  Family,Adventure,Animation,Comedy,Fantasy   \n",
       "9477              Thriller,Crime,Sci-Fi,Mystery   \n",
       "9478                              Comedy,Family   \n",
       "9479                  Adventure,Thriller,Horror   \n",
       "\n",
       "                                               overview  \\\n",
       "0     Raj is a rich, carefree, happy-go-lucky second...   \n",
       "1     Framed in the 1940s for the double murder of h...   \n",
       "2     Spanning the years 1945 to 1955, a chronicle o...   \n",
       "3     Professor Gabriel Emerson finally learns the t...   \n",
       "4     The true story of how businessman Oskar Schind...   \n",
       "...                                                 ...   \n",
       "9475  After the Club Med and skiing, what happened t...   \n",
       "9476  Rocky and Bullwinkle have been living off the ...   \n",
       "9477  S. Darko follows Samantha Darko, the younger s...   \n",
       "9478  A sweet-natured Italian waiter named Pistachio...   \n",
       "9479  After another deadly shark attack, Ellen Brody...   \n",
       "\n",
       "                          crew  \\\n",
       "0            ['Aditya Chopra']   \n",
       "1           ['Frank Darabont']   \n",
       "2     ['Francis Ford Coppola']   \n",
       "3               ['Tosca Musk']   \n",
       "4         ['Steven Spielberg']   \n",
       "...                        ...   \n",
       "9475       ['Patrice Leconte']   \n",
       "9476           ['Des McAnuff']   \n",
       "9477          ['Chris Fisher']   \n",
       "9478   ['Perry Andelin Blake']   \n",
       "9479        ['Joseph Sargent']   \n",
       "\n",
       "                                               keywords  \\\n",
       "0                                                         \n",
       "1     prison,corruption,policebrutality,prisoncell,d...   \n",
       "2     italy,lossoflovedone,loveatfirstsight,italiana...   \n",
       "3                                    basedonnovelorbook   \n",
       "4     basedonnovelorbook,factory,concentrationcamp,h...   \n",
       "...                                                 ...   \n",
       "9475  holiday,sardinia,italy,sequel,reunion,luxuryhotel   \n",
       "9476  helicopter,police,cartoon,roadtrip,carcrash,ja...   \n",
       "9477  sequel,stranded,endoftheworld,shatteredhome,bi...   \n",
       "9478  disguise,aftercreditsstinger,duringcreditsstinger   \n",
       "9479  sharkattack,bahamas,dyinganddeath,animalattack...   \n",
       "\n",
       "                                                   cast  vote_average  \n",
       "0     ShahRukhKhan,Kajol,AmrishPuri,AnupamKher,Satis...           8.7  \n",
       "1     TimRobbins,MorganFreeman,BobGunton,WilliamSadl...           8.7  \n",
       "2     MarlonBrando,AlPacino,JamesCaan,RobertDuvall,R...           8.7  \n",
       "3     MelanieZanetti,GiulioBerruti,JamesAndrewFraser...           8.6  \n",
       "4     LiamNeeson,BenKingsley,RalphFiennes,CarolineGo...           8.6  \n",
       "...                                                 ...           ...  \n",
       "9475  JosianeBalasko,MichelBlanc,Marie-AnneChazel,Ch...           4.1  \n",
       "9476  ReneRusso,JasonAlexander,PiperPerabo,RandyQuai...           4.1  \n",
       "9477  DaveighChase,ElizabethBerkley,BrianaEvigan,Jam...           4.1  \n",
       "9478  DanaCarvey,BrentSpiner,JenniferEsposito,Harold...           4.0  \n",
       "9479  LorraineGary,LanceGuest,MarioVanPeebles,Michae...           4.0  \n",
       "\n",
       "[9464 rows x 8 columns]"
      ]
     },
     "execution_count": 12,
     "metadata": {},
     "output_type": "execute_result"
    }
   ],
   "source": [
    "main_features_copy"
   ]
  },
  {
   "cell_type": "code",
   "execution_count": 13,
   "id": "88151875",
   "metadata": {},
   "outputs": [],
   "source": [
    "main_features_copy['cast']=main_features_copy['cast'].apply(lambda x:x.strip('[]'))\n",
    "main_features_copy['genres']=main_features_copy['genres'].apply(lambda x:x.strip('[]'))\n",
    "main_features_copy['keywords']=main_features_copy['keywords'].apply(lambda x:x.strip('[]'))"
   ]
  },
  {
   "cell_type": "code",
   "execution_count": 14,
   "id": "f5526fe8",
   "metadata": {},
   "outputs": [
    {
     "data": {
      "text/html": [
       "<div>\n",
       "<style scoped>\n",
       "    .dataframe tbody tr th:only-of-type {\n",
       "        vertical-align: middle;\n",
       "    }\n",
       "\n",
       "    .dataframe tbody tr th {\n",
       "        vertical-align: top;\n",
       "    }\n",
       "\n",
       "    .dataframe thead th {\n",
       "        text-align: right;\n",
       "    }\n",
       "</style>\n",
       "<table border=\"1\" class=\"dataframe\">\n",
       "  <thead>\n",
       "    <tr style=\"text-align: right;\">\n",
       "      <th></th>\n",
       "      <th>id</th>\n",
       "      <th>title</th>\n",
       "      <th>genres</th>\n",
       "      <th>overview</th>\n",
       "      <th>crew</th>\n",
       "      <th>keywords</th>\n",
       "      <th>cast</th>\n",
       "      <th>vote_average</th>\n",
       "    </tr>\n",
       "  </thead>\n",
       "  <tbody>\n",
       "    <tr>\n",
       "      <th>0</th>\n",
       "      <td>19404</td>\n",
       "      <td>Dilwale Dulhania Le Jayenge</td>\n",
       "      <td>Comedy,Drama,Romance</td>\n",
       "      <td>Raj is a rich, carefree, happy-go-lucky second...</td>\n",
       "      <td>['Aditya Chopra']</td>\n",
       "      <td></td>\n",
       "      <td>ShahRukhKhan,Kajol,AmrishPuri,AnupamKher,Satis...</td>\n",
       "      <td>8.7</td>\n",
       "    </tr>\n",
       "    <tr>\n",
       "      <th>1</th>\n",
       "      <td>278</td>\n",
       "      <td>The Shawshank Redemption</td>\n",
       "      <td>Drama,Crime</td>\n",
       "      <td>Framed in the 1940s for the double murder of h...</td>\n",
       "      <td>['Frank Darabont']</td>\n",
       "      <td>prison,corruption,policebrutality,prisoncell,d...</td>\n",
       "      <td>TimRobbins,MorganFreeman,BobGunton,WilliamSadl...</td>\n",
       "      <td>8.7</td>\n",
       "    </tr>\n",
       "    <tr>\n",
       "      <th>2</th>\n",
       "      <td>238</td>\n",
       "      <td>The Godfather</td>\n",
       "      <td>Drama,Crime</td>\n",
       "      <td>Spanning the years 1945 to 1955, a chronicle o...</td>\n",
       "      <td>['Francis Ford Coppola']</td>\n",
       "      <td>italy,lossoflovedone,loveatfirstsight,italiana...</td>\n",
       "      <td>MarlonBrando,AlPacino,JamesCaan,RobertDuvall,R...</td>\n",
       "      <td>8.7</td>\n",
       "    </tr>\n",
       "    <tr>\n",
       "      <th>3</th>\n",
       "      <td>724089</td>\n",
       "      <td>Gabriel's Inferno Part II</td>\n",
       "      <td>Romance</td>\n",
       "      <td>Professor Gabriel Emerson finally learns the t...</td>\n",
       "      <td>['Tosca Musk']</td>\n",
       "      <td>basedonnovelorbook</td>\n",
       "      <td>MelanieZanetti,GiulioBerruti,JamesAndrewFraser...</td>\n",
       "      <td>8.6</td>\n",
       "    </tr>\n",
       "    <tr>\n",
       "      <th>4</th>\n",
       "      <td>424</td>\n",
       "      <td>Schindler's List</td>\n",
       "      <td>Drama,History,War</td>\n",
       "      <td>The true story of how businessman Oskar Schind...</td>\n",
       "      <td>['Steven Spielberg']</td>\n",
       "      <td>basedonnovelorbook,factory,concentrationcamp,h...</td>\n",
       "      <td>LiamNeeson,BenKingsley,RalphFiennes,CarolineGo...</td>\n",
       "      <td>8.6</td>\n",
       "    </tr>\n",
       "    <tr>\n",
       "      <th>...</th>\n",
       "      <td>...</td>\n",
       "      <td>...</td>\n",
       "      <td>...</td>\n",
       "      <td>...</td>\n",
       "      <td>...</td>\n",
       "      <td>...</td>\n",
       "      <td>...</td>\n",
       "      <td>...</td>\n",
       "    </tr>\n",
       "    <tr>\n",
       "      <th>9475</th>\n",
       "      <td>21435</td>\n",
       "      <td>French Fried Vacation 3</td>\n",
       "      <td>Comedy</td>\n",
       "      <td>After the Club Med and skiing, what happened t...</td>\n",
       "      <td>['Patrice Leconte']</td>\n",
       "      <td>holiday,sardinia,italy,sequel,reunion,luxuryhotel</td>\n",
       "      <td>JosianeBalasko,MichelBlanc,Marie-AnneChazel,Ch...</td>\n",
       "      <td>4.1</td>\n",
       "    </tr>\n",
       "    <tr>\n",
       "      <th>9476</th>\n",
       "      <td>17711</td>\n",
       "      <td>The Adventures of Rocky &amp; Bullwinkle</td>\n",
       "      <td>Family,Adventure,Animation,Comedy,Fantasy</td>\n",
       "      <td>Rocky and Bullwinkle have been living off the ...</td>\n",
       "      <td>['Des McAnuff']</td>\n",
       "      <td>helicopter,police,cartoon,roadtrip,carcrash,ja...</td>\n",
       "      <td>ReneRusso,JasonAlexander,PiperPerabo,RandyQuai...</td>\n",
       "      <td>4.1</td>\n",
       "    </tr>\n",
       "    <tr>\n",
       "      <th>9477</th>\n",
       "      <td>17532</td>\n",
       "      <td>S. Darko</td>\n",
       "      <td>Thriller,Crime,Sci-Fi,Mystery</td>\n",
       "      <td>S. Darko follows Samantha Darko, the younger s...</td>\n",
       "      <td>['Chris Fisher']</td>\n",
       "      <td>sequel,stranded,endoftheworld,shatteredhome,bi...</td>\n",
       "      <td>DaveighChase,ElizabethBerkley,BrianaEvigan,Jam...</td>\n",
       "      <td>4.1</td>\n",
       "    </tr>\n",
       "    <tr>\n",
       "      <th>9478</th>\n",
       "      <td>13908</td>\n",
       "      <td>The Master of Disguise</td>\n",
       "      <td>Comedy,Family</td>\n",
       "      <td>A sweet-natured Italian waiter named Pistachio...</td>\n",
       "      <td>['Perry Andelin Blake']</td>\n",
       "      <td>disguise,aftercreditsstinger,duringcreditsstinger</td>\n",
       "      <td>DanaCarvey,BrentSpiner,JenniferEsposito,Harold...</td>\n",
       "      <td>4.0</td>\n",
       "    </tr>\n",
       "    <tr>\n",
       "      <th>9479</th>\n",
       "      <td>580</td>\n",
       "      <td>Jaws: The Revenge</td>\n",
       "      <td>Adventure,Thriller,Horror</td>\n",
       "      <td>After another deadly shark attack, Ellen Brody...</td>\n",
       "      <td>['Joseph Sargent']</td>\n",
       "      <td>sharkattack,bahamas,dyinganddeath,animalattack...</td>\n",
       "      <td>LorraineGary,LanceGuest,MarioVanPeebles,Michae...</td>\n",
       "      <td>4.0</td>\n",
       "    </tr>\n",
       "  </tbody>\n",
       "</table>\n",
       "<p>9464 rows × 8 columns</p>\n",
       "</div>"
      ],
      "text/plain": [
       "          id                                 title  \\\n",
       "0      19404           Dilwale Dulhania Le Jayenge   \n",
       "1        278              The Shawshank Redemption   \n",
       "2        238                         The Godfather   \n",
       "3     724089             Gabriel's Inferno Part II   \n",
       "4        424                      Schindler's List   \n",
       "...      ...                                   ...   \n",
       "9475   21435               French Fried Vacation 3   \n",
       "9476   17711  The Adventures of Rocky & Bullwinkle   \n",
       "9477   17532                              S. Darko   \n",
       "9478   13908                The Master of Disguise   \n",
       "9479     580                     Jaws: The Revenge   \n",
       "\n",
       "                                         genres  \\\n",
       "0                          Comedy,Drama,Romance   \n",
       "1                                   Drama,Crime   \n",
       "2                                   Drama,Crime   \n",
       "3                                       Romance   \n",
       "4                             Drama,History,War   \n",
       "...                                         ...   \n",
       "9475                                     Comedy   \n",
       "9476  Family,Adventure,Animation,Comedy,Fantasy   \n",
       "9477              Thriller,Crime,Sci-Fi,Mystery   \n",
       "9478                              Comedy,Family   \n",
       "9479                  Adventure,Thriller,Horror   \n",
       "\n",
       "                                               overview  \\\n",
       "0     Raj is a rich, carefree, happy-go-lucky second...   \n",
       "1     Framed in the 1940s for the double murder of h...   \n",
       "2     Spanning the years 1945 to 1955, a chronicle o...   \n",
       "3     Professor Gabriel Emerson finally learns the t...   \n",
       "4     The true story of how businessman Oskar Schind...   \n",
       "...                                                 ...   \n",
       "9475  After the Club Med and skiing, what happened t...   \n",
       "9476  Rocky and Bullwinkle have been living off the ...   \n",
       "9477  S. Darko follows Samantha Darko, the younger s...   \n",
       "9478  A sweet-natured Italian waiter named Pistachio...   \n",
       "9479  After another deadly shark attack, Ellen Brody...   \n",
       "\n",
       "                          crew  \\\n",
       "0            ['Aditya Chopra']   \n",
       "1           ['Frank Darabont']   \n",
       "2     ['Francis Ford Coppola']   \n",
       "3               ['Tosca Musk']   \n",
       "4         ['Steven Spielberg']   \n",
       "...                        ...   \n",
       "9475       ['Patrice Leconte']   \n",
       "9476           ['Des McAnuff']   \n",
       "9477          ['Chris Fisher']   \n",
       "9478   ['Perry Andelin Blake']   \n",
       "9479        ['Joseph Sargent']   \n",
       "\n",
       "                                               keywords  \\\n",
       "0                                                         \n",
       "1     prison,corruption,policebrutality,prisoncell,d...   \n",
       "2     italy,lossoflovedone,loveatfirstsight,italiana...   \n",
       "3                                    basedonnovelorbook   \n",
       "4     basedonnovelorbook,factory,concentrationcamp,h...   \n",
       "...                                                 ...   \n",
       "9475  holiday,sardinia,italy,sequel,reunion,luxuryhotel   \n",
       "9476  helicopter,police,cartoon,roadtrip,carcrash,ja...   \n",
       "9477  sequel,stranded,endoftheworld,shatteredhome,bi...   \n",
       "9478  disguise,aftercreditsstinger,duringcreditsstinger   \n",
       "9479  sharkattack,bahamas,dyinganddeath,animalattack...   \n",
       "\n",
       "                                                   cast  vote_average  \n",
       "0     ShahRukhKhan,Kajol,AmrishPuri,AnupamKher,Satis...           8.7  \n",
       "1     TimRobbins,MorganFreeman,BobGunton,WilliamSadl...           8.7  \n",
       "2     MarlonBrando,AlPacino,JamesCaan,RobertDuvall,R...           8.7  \n",
       "3     MelanieZanetti,GiulioBerruti,JamesAndrewFraser...           8.6  \n",
       "4     LiamNeeson,BenKingsley,RalphFiennes,CarolineGo...           8.6  \n",
       "...                                                 ...           ...  \n",
       "9475  JosianeBalasko,MichelBlanc,Marie-AnneChazel,Ch...           4.1  \n",
       "9476  ReneRusso,JasonAlexander,PiperPerabo,RandyQuai...           4.1  \n",
       "9477  DaveighChase,ElizabethBerkley,BrianaEvigan,Jam...           4.1  \n",
       "9478  DanaCarvey,BrentSpiner,JenniferEsposito,Harold...           4.0  \n",
       "9479  LorraineGary,LanceGuest,MarioVanPeebles,Michae...           4.0  \n",
       "\n",
       "[9464 rows x 8 columns]"
      ]
     },
     "execution_count": 14,
     "metadata": {},
     "output_type": "execute_result"
    }
   ],
   "source": [
    "main_features_copy"
   ]
  },
  {
   "cell_type": "code",
   "execution_count": 15,
   "id": "25612482",
   "metadata": {},
   "outputs": [],
   "source": [
    "main_features_copy['tags']=main_features_copy['overview'] + main_features_copy['genres'] + main_features_copy['keywords'] + main_features_copy['cast'] + main_features_copy['crew']"
   ]
  },
  {
   "cell_type": "code",
   "execution_count": 16,
   "id": "43e17721",
   "metadata": {},
   "outputs": [],
   "source": [
    "new_df = main_features_copy[['title','tags']]"
   ]
  },
  {
   "cell_type": "code",
   "execution_count": 17,
   "id": "d6ca966d",
   "metadata": {},
   "outputs": [],
   "source": [
    "new_df\n",
    "new_df_copy = new_df.copy()"
   ]
  },
  {
   "cell_type": "code",
   "execution_count": 18,
   "id": "62d6f93e",
   "metadata": {},
   "outputs": [],
   "source": [
    "from nltk import PorterStemmer\n",
    "ps = PorterStemmer()\n",
    "def stem(x):\n",
    "    if pd.notna(x):\n",
    "        L = []\n",
    "        for i in x.split():\n",
    "            L.append(ps.stem(i))\n",
    "        return \" \".join(L)\n",
    "    else:\n",
    "        return x "
   ]
  },
  {
   "cell_type": "code",
   "execution_count": 19,
   "id": "7e4befb7",
   "metadata": {},
   "outputs": [],
   "source": [
    "new_df_copy['tags'] = new_df_copy['tags'].apply(stem)"
   ]
  },
  {
   "cell_type": "code",
   "execution_count": 20,
   "id": "de72cf4e",
   "metadata": {},
   "outputs": [],
   "source": [
    "from sklearn.feature_extraction.text import CountVectorizer\n",
    "cv = CountVectorizer(max_features=5000, stop_words='english')"
   ]
  },
  {
   "cell_type": "code",
   "execution_count": 21,
   "id": "3f7e5cfb",
   "metadata": {},
   "outputs": [
    {
     "name": "stderr",
     "output_type": "stream",
     "text": [
      "C:\\Users\\Scott Fernandes\\AppData\\Local\\Temp\\ipykernel_2856\\177002328.py:1: FutureWarning: A value is trying to be set on a copy of a DataFrame or Series through chained assignment using an inplace method.\n",
      "The behavior will change in pandas 3.0. This inplace method will never work because the intermediate object on which we are setting values always behaves as a copy.\n",
      "\n",
      "For example, when doing 'df[col].method(value, inplace=True)', try using 'df.method({col: value}, inplace=True)' or df[col] = df[col].method(value) instead, to perform the operation inplace on the original object.\n",
      "\n",
      "\n",
      "  new_df_copy['tags'].fillna('', inplace=True)\n"
     ]
    }
   ],
   "source": [
    "new_df_copy['tags'].fillna('', inplace=True)  "
   ]
  },
  {
   "cell_type": "code",
   "execution_count": 22,
   "id": "e40ee7eb",
   "metadata": {},
   "outputs": [],
   "source": [
    "vectors = cv.fit_transform(new_df_copy['tags']).toarray()\n"
   ]
  },
  {
   "cell_type": "code",
   "execution_count": 23,
   "id": "4f800787",
   "metadata": {},
   "outputs": [
    {
     "data": {
      "text/plain": [
       "array([[0, 0, 0, ..., 0, 0, 0],\n",
       "       [0, 0, 0, ..., 0, 0, 0],\n",
       "       [0, 0, 0, ..., 0, 0, 0],\n",
       "       ...,\n",
       "       [0, 0, 0, ..., 0, 0, 0],\n",
       "       [0, 0, 0, ..., 0, 0, 0],\n",
       "       [0, 0, 0, ..., 0, 0, 0]], dtype=int64)"
      ]
     },
     "execution_count": 23,
     "metadata": {},
     "output_type": "execute_result"
    }
   ],
   "source": [
    "vectors"
   ]
  },
  {
   "cell_type": "code",
   "execution_count": 24,
   "id": "add43e37",
   "metadata": {},
   "outputs": [],
   "source": [
    "similarity = cosine_similarity(vectors)"
   ]
  },
  {
   "cell_type": "code",
   "execution_count": 25,
   "id": "01515ea5",
   "metadata": {},
   "outputs": [],
   "source": [
    "sorted_sim = sorted(list(enumerate(similarity[0])),reverse=True,key = lambda x:x[1])[1:12]"
   ]
  },
  {
   "cell_type": "code",
   "execution_count": 26,
   "id": "17a29916",
   "metadata": {},
   "outputs": [],
   "source": [
    "API_KEY='75d6f4d358afd80023fc135735da8af5'\n"
   ]
  },
  {
   "cell_type": "code",
   "execution_count": 27,
   "id": "77190bef",
   "metadata": {},
   "outputs": [],
   "source": [
    "def get_movie_id(movie):\n",
    "    base_url = 'https://api.themoviedb.org/3/search/movie'\n",
    "    params = {\n",
    "        'api_key': API_KEY,\n",
    "        'query': movie\n",
    "    }\n",
    "    response = requests.get(base_url, params=params)\n",
    "    data = response.json()\n",
    "    if 'results' in data and data['results']:\n",
    "        movie_id = data['results'][0]['id']\n",
    "        return movie_id\n",
    "    else:\n",
    "        print(f\"No results found for '{movie}'\")\n"
   ]
  },
  {
   "cell_type": "code",
   "execution_count": 43,
   "id": "9a38fd71",
   "metadata": {},
   "outputs": [
    {
     "data": {
      "text/plain": [
       "634649"
      ]
     },
     "execution_count": 43,
     "metadata": {},
     "output_type": "execute_result"
    }
   ],
   "source": [
    "get_movie_id('Spider-Man: No Way Home')"
   ]
  },
  {
   "cell_type": "code",
   "execution_count": 32,
   "id": "5ea4403d",
   "metadata": {},
   "outputs": [],
   "source": [
    "def get_movie_details(movie):\n",
    "    genre = (df.loc[df['title']==movie]).to_string(header=False,index=False,columns=['genres']).strip('[]').replace(\"'\",'')\n",
    "    print(genre)\n",
    "    overview = (df.loc[df['title']==movie]).to_string(header=False,index=False,columns=['overview']).replace(\",\",\"\")\n",
    "    overview  = overview.strip('[]')\n",
    "    release_date = (df.loc[df['title']==movie]).to_string(header=False,index=False,columns=['release_date'])\n",
    "    formatted_date = pd.to_datetime(release_date).strftime('%d %B %Y')\n",
    "    ratings = (df.loc[df['title']==movie]).to_string(header=False,index=False,columns=['vote_average'])\n",
    "    print(ratings)\n",
    "    return genre,overview,formatted_date,ratings"
   ]
  },
  {
   "cell_type": "code",
   "execution_count": 33,
   "id": "ab6cdbc0",
   "metadata": {},
   "outputs": [
    {
     "name": "stdout",
     "output_type": "stream",
     "text": [
      "Fantasy, Action\n",
      "7.2\n"
     ]
    },
    {
     "data": {
      "text/plain": [
       "('Fantasy, Action',\n",
       " 'Batman must face his most ruthless nemesis when a deformed madman calling himself \"The Joker\" seizes control of Gotham\\'s criminal underworld.',\n",
       " '23 June 1989',\n",
       " '7.2')"
      ]
     },
     "execution_count": 33,
     "metadata": {},
     "output_type": "execute_result"
    }
   ],
   "source": [
    "get_movie_details('Batman (1989)')"
   ]
  },
  {
   "cell_type": "code",
   "execution_count": 40,
   "id": "c5d2cf47",
   "metadata": {},
   "outputs": [],
   "source": [
    "def get_castcrew(movie_id):\n",
    "    response = requests.get('http://api.themoviedb.org/3/movie/{}?api_key=75d6f4d358afd80023fc135735da8af5&append_to_response=credits&language=en-US'.format(movie_id))\n",
    "    data = response.json()\n",
    "    print(data)\n",
    "    dets =  data['credits']['cast'][0:10]\n",
    "    ids = [i['id'] for i in dets]\n",
    "    details= []\n",
    "    character = [i['character'] for i in dets]\n",
    "    for i in dets:\n",
    "        if type(i) is not None:\n",
    "            poster = [\"https://image.tmdb.org/t/p/original\"+i['profile_path'] for i in dets]\n",
    "\n",
    "        for i in dets:\n",
    "            i['profile_path'] = 'https://encrypted-tbn0.gstatic.com/images?q=tbn:ANd9GcTFXT94RTDPEqHrcC1pVOjBpVUMzQ4dZ3QgOfJWQp2aLSOxEgQGQmu_jsgXu1czdhE1tzo&usqp=CAU'\n",
    "            poster = [\"https://image.tmdb.org/t/p/original\"+i['profile_path'] for i in dets]\n",
    "\n",
    "\n",
    "    for i in ids:\n",
    "        response2 = requests.get('https://api.themoviedb.org/3/person/{}?api_key=75d6f4d358afd80023fc135735da8af5'.format(i))\n",
    "        data2 = response2.json()\n",
    "        details.append(data2)\n",
    "    name = [i['name'] for i in details]\n",
    "\n",
    "    dets = {\"name\":name,\"poster\":poster,\"character\":character}\n",
    "    return poster"
   ]
  },
  {
   "cell_type": "code",
   "execution_count": 44,
   "id": "099fd2a3",
   "metadata": {},
   "outputs": [
    {
     "name": "stdout",
     "output_type": "stream",
     "text": [
      "{'adult': False, 'backdrop_path': '/zD5v1E4joAzFvmAEytt7fM3ivyT.jpg', 'belongs_to_collection': {'id': 531241, 'name': 'Spider-Man (MCU) Collection', 'poster_path': '/yeba3Y820OjApZO9aJevDsNeMEd.jpg', 'backdrop_path': '/AvnqpRwlEaYNVL6wzC4RN94EdSd.jpg'}, 'budget': 200000000, 'genres': [{'id': 28, 'name': 'Action'}, {'id': 12, 'name': 'Adventure'}, {'id': 878, 'name': 'Science Fiction'}], 'homepage': 'https://www.sonypictures.com/movies/spidermannowayhome', 'id': 634649, 'imdb_id': 'tt10872600', 'origin_country': ['US'], 'original_language': 'en', 'original_title': 'Spider-Man: No Way Home', 'overview': 'Peter Parker is unmasked and no longer able to separate his normal life from the high-stakes of being a super-hero. When he asks for help from Doctor Strange the stakes become even more dangerous, forcing him to discover what it truly means to be Spider-Man.', 'popularity': 150.651, 'poster_path': '/1g0dhYtq4irTY1GPXvft6k4YLjm.jpg', 'production_companies': [{'id': 420, 'logo_path': '/hUzeosd33nzE5MCNsZxCGEKTXaQ.png', 'name': 'Marvel Studios', 'origin_country': 'US'}, {'id': 84041, 'logo_path': '/nw4kyc29QRpNtFbdsBHkRSFavvt.png', 'name': 'Pascal Pictures', 'origin_country': 'US'}, {'id': 5, 'logo_path': '/71BqEFAF4V3qjjMPCpLuyJFB9A.png', 'name': 'Columbia Pictures', 'origin_country': 'US'}], 'production_countries': [{'iso_3166_1': 'US', 'name': 'United States of America'}], 'release_date': '2021-12-15', 'revenue': 1921847111, 'runtime': 148, 'spoken_languages': [{'english_name': 'English', 'iso_639_1': 'en', 'name': 'English'}, {'english_name': 'Tagalog', 'iso_639_1': 'tl', 'name': ''}], 'status': 'Released', 'tagline': 'The Multiverse unleashed.', 'title': 'Spider-Man: No Way Home', 'video': False, 'vote_average': 7.9, 'vote_count': 20552, 'credits': {'cast': [{'adult': False, 'gender': 2, 'id': 1136406, 'known_for_department': 'Acting', 'name': 'Tom Holland', 'original_name': 'Tom Holland', 'popularity': 53.794, 'profile_path': '/bBRlrpJm9XkNSg0YT5LCaxqoFMX.jpg', 'cast_id': 1, 'character': 'Peter Parker / Spider-Man', 'credit_id': '5d8e28d38289a0000fcc32f9', 'order': 0}, {'adult': False, 'gender': 1, 'id': 505710, 'known_for_department': 'Acting', 'name': 'Zendaya', 'original_name': 'Zendaya', 'popularity': 34.651, 'profile_path': '/3WdOloHpjtjL96uVOhFRRCcYSwq.jpg', 'cast_id': 54, 'character': 'MJ', 'credit_id': '5fd968c09408ec003cdd0557', 'order': 1}, {'adult': False, 'gender': 2, 'id': 71580, 'known_for_department': 'Acting', 'name': 'Benedict Cumberbatch', 'original_name': 'Benedict Cumberbatch', 'popularity': 38.114, 'profile_path': '/fBEucxECxGLKVHBznO0qHtCGiMO.jpg', 'cast_id': 33, 'character': 'Doctor Strange', 'credit_id': '5f7f51e42f3b170035f3a821', 'order': 2}, {'adult': False, 'gender': 2, 'id': 1649152, 'known_for_department': 'Acting', 'name': 'Jacob Batalon', 'original_name': 'Jacob Batalon', 'popularity': 4.582, 'profile_path': '/53YhaL4xw4Sb1ssoHkeSSBaO29c.jpg', 'cast_id': 69, 'character': 'Ned Leeds', 'credit_id': '6124200e4a52f8005dd04318', 'order': 3}, {'adult': False, 'gender': 2, 'id': 15277, 'known_for_department': 'Acting', 'name': 'Jon Favreau', 'original_name': 'Jon Favreau', 'popularity': 18.785, 'profile_path': '/tnx7iMVydPQXGOoLsxXl84PXtbA.jpg', 'cast_id': 82, 'character': 'Happy Hogan', 'credit_id': '612450fa2dc44e0045c8df84', 'order': 4}, {'adult': False, 'gender': 2, 'id': 134, 'known_for_department': 'Acting', 'name': 'Jamie Foxx', 'original_name': 'Jamie Foxx', 'popularity': 22.669, 'profile_path': '/hPwCMEq6jLAidsXAX5BfoYgIfg2.jpg', 'cast_id': 68, 'character': 'Max Dillon / Electro', 'credit_id': '61241f30c5c1ef005c08f777', 'order': 5}, {'adult': False, 'gender': 2, 'id': 5293, 'known_for_department': 'Acting', 'name': 'Willem Dafoe', 'original_name': 'Willem Dafoe', 'popularity': 28.503, 'profile_path': '/ui8e4sgZAwMPi3hzEO53jyBJF9B.jpg', 'cast_id': 81, 'character': 'Norman Osborn / Green Goblin', 'credit_id': '612450a4886348005eb353a7', 'order': 6}, {'adult': False, 'gender': 2, 'id': 658, 'known_for_department': 'Acting', 'name': 'Alfred Molina', 'original_name': 'Alfred Molina', 'popularity': 14.063, 'profile_path': '/nJo91Czesn6z0d0pkfbDoVZY3sg.jpg', 'cast_id': 66, 'character': 'Dr. Otto Octavius / Doc Ock', 'credit_id': '61241e3053466100452f0942', 'order': 7}, {'adult': False, 'gender': 2, 'id': 30082, 'known_for_department': 'Acting', 'name': 'Benedict Wong', 'original_name': 'Benedict Wong', 'popularity': 13.342, 'profile_path': '/yYfLyrC2CE6vBWSJfkpuVKL2POM.jpg', 'cast_id': 79, 'character': 'Wong', 'credit_id': '61244f322dc44e007e586c24', 'order': 8}, {'adult': False, 'gender': 2, 'id': 1291350, 'known_for_department': 'Acting', 'name': 'Tony Revolori', 'original_name': 'Tony Revolori', 'popularity': 2.999, 'profile_path': '/tSF6XmXDikrKZbFUeoDnafXxKjT.jpg', 'cast_id': 71, 'character': 'Flash Thompson', 'credit_id': '61242cd46f53e1005c9a5d81', 'order': 9}, {'adult': False, 'gender': 1, 'id': 3141, 'known_for_department': 'Acting', 'name': 'Marisa Tomei', 'original_name': 'Marisa Tomei', 'popularity': 18.704, 'profile_path': '/5w6qM8FWsl5SutKSpx6Va64eCTE.jpg', 'cast_id': 56, 'character': 'May Parker', 'credit_id': '5fd968d6db952d003e815de4', 'order': 10}, {'adult': False, 'gender': 2, 'id': 37625, 'known_for_department': 'Acting', 'name': 'Andrew Garfield', 'original_name': 'Andrew Garfield', 'popularity': 43.086, 'profile_path': '/5ydZ6TluPtxlz5G8nlWMB7SGmow.jpg', 'cast_id': 159, 'character': 'Peter Parker / Spider-Man', 'credit_id': '61b891dd1f3319006121ecd1', 'order': 11}, {'adult': False, 'gender': 2, 'id': 2219, 'known_for_department': 'Acting', 'name': 'Tobey Maguire', 'original_name': 'Tobey Maguire', 'popularity': 24.825, 'profile_path': '/ncF4HivY2W6SQW5dEP3N3I4mfT0.jpg', 'cast_id': 160, 'character': 'Peter Parker / Spider-Man', 'credit_id': '61b891e643999b0064592e99', 'order': 12}, {'adult': False, 'gender': 1, 'id': 1265629, 'known_for_department': 'Acting', 'name': 'Angourie Rice', 'original_name': 'Angourie Rice', 'popularity': 17.286, 'profile_path': '/i8Wzov1P4HUMaK7rcG250nhxTg3.jpg', 'cast_id': 70, 'character': 'Betty Brant', 'credit_id': '6124208e88634800456f6fa1', 'order': 13}, {'adult': False, 'gender': 2, 'id': 457386, 'known_for_department': 'Acting', 'name': 'Arian Moayed', 'original_name': 'Arian Moayed', 'popularity': 5.666, 'profile_path': '/ApY4Ql2xGnzy8LeWqcntAbEQHiB.jpg', 'cast_id': 89, 'character': 'Agent Cleary', 'credit_id': '612486f6501cf20075acbe55', 'order': 14}, {'adult': False, 'gender': 1, 'id': 17420, 'known_for_department': 'Acting', 'name': 'Paula Newsome', 'original_name': 'Paula Newsome', 'popularity': 6.228, 'profile_path': '/7CdlpBKibe9Aya8QzKGU1sfktWA.jpg', 'cast_id': 80, 'character': 'MIT Assistant Vice Chancellor', 'credit_id': '6124501c0102c90024085e81', 'order': 15}, {'adult': False, 'gender': 2, 'id': 500427, 'known_for_department': 'Acting', 'name': 'Hannibal Buress', 'original_name': 'Hannibal Buress', 'popularity': 3.794, 'profile_path': '/mcw3Orbg4vbALXTVG4hriZjH1sj.jpg', 'cast_id': 72, 'character': 'Coach Wilson', 'credit_id': '61242cdf534661005cd03e57', 'order': 16}, {'adult': False, 'gender': 2, 'id': 41089, 'known_for_department': 'Acting', 'name': 'Martin Starr', 'original_name': 'Martin Starr', 'popularity': 7.058, 'profile_path': '/gNyCdend3C5gY3ucq42Zt3swfg2.jpg', 'cast_id': 75, 'character': 'Mr. Harrington', 'credit_id': '61242d810102c9002407fd2a', 'order': 17}, {'adult': False, 'gender': 2, 'id': 65920, 'known_for_department': 'Acting', 'name': 'JB Smoove', 'original_name': 'JB Smoove', 'popularity': 4.15, 'profile_path': '/691r7OL0R9TaR7SaqR6AnKVLUUu.jpg', 'cast_id': 74, 'character': 'Mr. Dell', 'credit_id': '61242cf0886348007e380021', 'order': 18}, {'adult': False, 'gender': 2, 'id': 18999, 'known_for_department': 'Acting', 'name': 'J.K. Simmons', 'original_name': 'J.K. Simmons', 'popularity': 29.218, 'profile_path': '/ScmKoJ9eiSUOthAt1PDNLi8Fkw.jpg', 'cast_id': 67, 'character': 'J. Jonah Jameson', 'credit_id': '61241ee1d6c300007e705c88', 'order': 19}, {'adult': False, 'gender': 2, 'id': 7026, 'known_for_department': 'Acting', 'name': 'Rhys Ifans', 'original_name': 'Rhys Ifans', 'popularity': 7.374, 'profile_path': '/1D670EEsbky3EtO7XLG32A09p92.jpg', 'cast_id': 161, 'character': 'Dr. Curt Connors / The Lizard', 'credit_id': '61b8b80bcb75d1001c083bcf', 'order': 20}, {'adult': False, 'gender': 2, 'id': 23458, 'known_for_department': 'Acting', 'name': 'Charlie Cox', 'original_name': 'Charlie Cox', 'popularity': 9.722, 'profile_path': '/jBHDZ8MA4I7krNQx4IfqdfPfleD.jpg', 'cast_id': 163, 'character': 'Matt Murdock', 'credit_id': '61b8b840c616ac00668a2e51', 'order': 21}, {'adult': False, 'gender': 2, 'id': 19159, 'known_for_department': 'Acting', 'name': 'Thomas Haden Church', 'original_name': 'Thomas Haden Church', 'popularity': 6.763, 'profile_path': '/74NK9HCYvNafMggSp1PAK5Nwkpe.jpg', 'cast_id': 162, 'character': 'Flint Marko / Sandman', 'credit_id': '61b8b82585005d009397e0ea', 'order': 22}, {'adult': False, 'gender': 2, 'id': 1792415, 'known_for_department': 'Acting', 'name': 'Haroon Khan', 'original_name': 'Haroon Khan', 'popularity': 0.99, 'profile_path': '/g9ZENRcx0xdlqkzp3z0sopqDzXi.jpg', 'cast_id': 276, 'character': 'Apprentice', 'credit_id': '64ed210ee2bca800ff0fadca', 'order': 23}, {'adult': False, 'gender': 1, 'id': 3462666, 'known_for_department': 'Production', 'name': 'Emily Fong', 'original_name': 'Emily Fong', 'popularity': 0.02, 'profile_path': None, 'cast_id': 250, 'character': 'Apprentice', 'credit_id': '622cb95484591c001c279e8a', 'order': 24}, {'adult': False, 'gender': 1, 'id': 3353015, 'known_for_department': 'Acting', 'name': 'Mary Rivera', 'original_name': 'Mary Rivera', 'popularity': 0.273, 'profile_path': None, 'cast_id': 186, 'character': \"Ned's Lola\", 'credit_id': '61bfdd62d19a330095445166', 'order': 25}, {'adult': False, 'gender': 2, 'id': 1651953, 'known_for_department': 'Acting', 'name': 'Rudy Eisenzopf', 'original_name': 'Rudy Eisenzopf', 'popularity': 0.22, 'profile_path': '/1pDV75qlQwWZ7wLWoE5zenedYBe.jpg', 'cast_id': 166, 'character': 'Arena Bystander', 'credit_id': '61bb429b894ed6001ce9b02c', 'order': 26}, {'adult': False, 'gender': 1, 'id': 3353017, 'known_for_department': 'Acting', 'name': 'Kathleen Cardoso', 'original_name': 'Kathleen Cardoso', 'popularity': 0.001, 'profile_path': '/qdJ3zo0dRt504CRENQDdDzb9SqB.jpg', 'cast_id': 190, 'character': 'Arena Bystander', 'credit_id': '61bfde09105611004139a4be', 'order': 27}, {'adult': False, 'gender': 2, 'id': 3353016, 'known_for_department': 'Acting', 'name': 'Jonathan Sam', 'original_name': 'Jonathan Sam', 'popularity': 0.132, 'profile_path': '/kAfAFLqnO1Bw5qvHRn7NpQrNAs3.jpg', 'cast_id': 189, 'character': 'Arena Bystander', 'credit_id': '61bfddf213af5f00420857e3', 'order': 28}, {'adult': False, 'gender': 2, 'id': 3353020, 'known_for_department': 'Acting', 'name': 'Andrew Dunlap', 'original_name': 'Andrew Dunlap', 'popularity': 0.001, 'profile_path': None, 'cast_id': 191, 'character': 'Dad in Car', 'credit_id': '61bfdeb572c13e001c0a5fde', 'order': 29}, {'adult': False, 'gender': 1, 'id': 3353021, 'known_for_department': 'Acting', 'name': 'Zany Dunlap', 'original_name': 'Zany Dunlap', 'popularity': 0.005, 'profile_path': '/hBo2PAXTExvPM6CvySL8epnWbjW.jpg', 'cast_id': 192, 'character': 'Mom in Car', 'credit_id': '61bfdec1c4ad590042457923', 'order': 30}, {'adult': False, 'gender': 2, 'id': 3353022, 'known_for_department': 'Acting', 'name': 'B. Clutch Dunlap', 'original_name': 'B. Clutch Dunlap', 'popularity': 0.055, 'profile_path': '/dLHGYMHykaruogj6EZD0gfh1Q8x.jpg', 'cast_id': 193, 'character': 'Kid in Car', 'credit_id': '61bfdecd105611001ccc7e3f', 'order': 31}, {'adult': False, 'gender': 1, 'id': 3353024, 'known_for_department': 'Acting', 'name': 'Minnah Dunlap', 'original_name': 'Minnah Dunlap', 'popularity': 0.001, 'profile_path': '/pt3AvG7ksR7G61mMskCjlLvnmhZ.jpg', 'cast_id': 194, 'character': 'Kid in Car', 'credit_id': '61bfdf72d14443004148072a', 'order': 32}, {'adult': False, 'gender': 2, 'id': 1455813, 'known_for_department': 'Acting', 'name': 'Ben VanderMey', 'original_name': 'Ben VanderMey', 'popularity': 0.818, 'profile_path': '/lkPNTxvIiV0WtBVOV8DbLiCSp0c.jpg', 'cast_id': 167, 'character': 'Man in Car', 'credit_id': '61bb42c113af5f004200180d', 'order': 33}, {'adult': False, 'gender': 2, 'id': 168875, 'known_for_department': 'Acting', 'name': 'Gary Weeks', 'original_name': 'Gary Weeks', 'popularity': 3.346, 'profile_path': '/n4taftpteF6qUTeYRDkdGPHC58.jpg', 'cast_id': 168, 'character': 'Agent Foster', 'credit_id': '61bb42ced2f5b50041b2572b', 'order': 34}, {'adult': False, 'gender': 2, 'id': 1460925, 'known_for_department': 'Acting', 'name': 'Gregory Konow', 'original_name': 'Gregory Konow', 'popularity': 0.619, 'profile_path': '/k3Zu0epkGox4kaWOTq8dQccab3w.jpg', 'cast_id': 169, 'character': 'Donut Shop Boss', 'credit_id': '61bb42dcd2f5b50092f5aae0', 'order': 35}, {'adult': False, 'gender': 1, 'id': 2933171, 'known_for_department': 'Acting', 'name': 'Carol Anne Dines', 'original_name': 'Carol Anne Dines', 'popularity': 0.052, 'profile_path': '/3ViJYDRJLtCOh4ONmAOD1ThlPut.jpg', 'cast_id': 195, 'character': 'Donut Shop Waitress', 'credit_id': '61bfe3451f3319008d4c9855', 'order': 36}, {'adult': False, 'gender': 1, 'id': 2231998, 'known_for_department': 'Acting', 'name': 'Anisa Nyell Johnson', 'original_name': 'Anisa Nyell Johnson', 'popularity': 1.25, 'profile_path': '/2hXRw4Snt6fs5xZebcmcyIM0Wp9.jpg', 'cast_id': 175, 'character': 'School Security Guard', 'credit_id': '61bee4f609ed8f00407e3bb9', 'order': 37}, {'adult': False, 'gender': 2, 'id': 1546115, 'known_for_department': 'Sound', 'name': 'Willie D. Burton', 'original_name': 'Willie D. Burton', 'popularity': 1.053, 'profile_path': '/scUZhjN7gsFGquUUBFdrVU34t9y.jpg', 'cast_id': 196, 'character': \"May's Neighbor\", 'credit_id': '61bfe429ef9d72008a991834', 'order': 38}, {'adult': False, 'gender': 1, 'id': 2486882, 'known_for_department': 'Acting', 'name': 'Mallory Hoff', 'original_name': 'Mallory Hoff', 'popularity': 0.766, 'profile_path': '/s1WDABID2EClBbA7GMQsmmeIBRB.jpg', 'cast_id': 176, 'character': 'Reporter', 'credit_id': '61bee50b297338006b48f8ec', 'order': 39}, {'adult': False, 'gender': 2, 'id': 146024, 'known_for_department': 'Acting', 'name': 'Greg Clarkson', 'original_name': 'Greg Clarkson', 'popularity': 0.161, 'profile_path': '/hZhh6HICNVg4DsTQYdaMDpDZgnS.jpg', 'cast_id': 177, 'character': 'Reporter', 'credit_id': '61bee515d371970066b9cd44', 'order': 40}, {'adult': False, 'gender': 1, 'id': 1613974, 'known_for_department': 'Acting', 'name': 'Regina Ting Chen', 'original_name': 'Regina Ting Chen', 'popularity': 2.31, 'profile_path': '/7Lqwq6UYbZd7XyMujUKUVUHGSIb.jpg', 'cast_id': 178, 'character': 'Reporter', 'credit_id': '61bee51e014325004333e825', 'order': 41}, {'adult': False, 'gender': 2, 'id': 3144298, 'known_for_department': 'Acting', 'name': 'Robert Mitchel Owenby', 'original_name': 'Robert Mitchel Owenby', 'popularity': 0.008, 'profile_path': '/ttalMWtp4WH6U0n82nOBdoYVYiL.jpg', 'cast_id': 179, 'character': 'Daily Bugle Lackey', 'credit_id': '61bee52d0443c9006007d99b', 'order': 42}, {'adult': False, 'gender': 2, 'id': 1347386, 'known_for_department': 'Acting', 'name': 'Glenn Keogh', 'original_name': 'Glenn Keogh', 'popularity': 0.739, 'profile_path': '/amv7HimTqvhmVqko9oKNYeHINvx.jpg', 'cast_id': 180, 'character': 'British Reporter', 'credit_id': '61bee539d19a3300418c1214', 'order': 43}, {'adult': False, 'gender': 1, 'id': 2044224, 'known_for_department': 'Acting', 'name': 'Paris Benjamin', 'original_name': 'Paris Benjamin', 'popularity': 1.152, 'profile_path': '/xDQyGetUDUehJvZquY2gbFb7Lks.jpg', 'cast_id': 181, 'character': 'British Anchor', 'credit_id': '61bee5476a300b001d98c8af', 'order': 44}, {'adult': False, 'gender': 1, 'id': 1370799, 'known_for_department': 'Acting', 'name': 'Jwaundace Candece', 'original_name': 'Jwaundace Candece', 'popularity': 1.415, 'profile_path': '/8oQG30bPyZLnHwv4JMyktnumuQd.jpg', 'cast_id': 182, 'character': 'Damage Control Agent', 'credit_id': '61bee554b0040a001c13f8dc', 'order': 45}, {'adult': False, 'gender': 1, 'id': 1382356, 'known_for_department': 'Acting', 'name': 'Taylor St. Clair', 'original_name': 'Taylor St. Clair', 'popularity': 0.309, 'profile_path': '/d9dVvcJsFBB76chmYl7kPRFXbH8.jpg', 'cast_id': 183, 'character': 'Protestor', 'credit_id': '61bee56413af5f0063120ac3', 'order': 46}, {'adult': False, 'gender': 2, 'id': 3353039, 'known_for_department': 'Acting', 'name': 'Rolando Fernandez', 'original_name': 'Rolando Fernandez', 'popularity': 0.094, 'profile_path': '/cKINGrta7pWvz1zZz1XJSMb6KTN.jpg', 'cast_id': 197, 'character': 'Crowd Member', 'credit_id': '61bfe4d9fcadb40095c3fa09', 'order': 47}, {'adult': False, 'gender': 1, 'id': 1945694, 'known_for_department': 'Acting', 'name': 'Gabriella Cila', 'original_name': 'Gabriella Cila', 'popularity': 0.907, 'profile_path': '/e4Gya1ymo9btw3rziOVlxl1Ju6v.jpg', 'cast_id': 184, 'character': 'Crowd Member', 'credit_id': '61bee57fd19a3300418c125f', 'order': 48}, {'adult': False, 'gender': 2, 'id': 3352136, 'known_for_department': 'Crew', 'name': 'Darnell Appling', 'original_name': 'Darnell Appling', 'popularity': 0.857, 'profile_path': '/g4unqS1W07uKzoVIaQAEnVyk6W0.jpg', 'cast_id': 185, 'character': 'Crowd Member', 'credit_id': '61bee58e105611001ccaeb79', 'order': 49}, {'adult': False, 'gender': 2, 'id': 3353041, 'known_for_department': 'Acting', 'name': 'Edward Force', 'original_name': 'Edward Force', 'popularity': 0.195, 'profile_path': '/sLMZVhHuRWI2BJvNYnJSVoQp42K.jpg', 'cast_id': 198, 'character': 'Donut Shop Patron', 'credit_id': '61bfe53bef9d72008a991b3d', 'order': 50}, {'adult': False, 'gender': 2, 'id': 3347286, 'known_for_department': 'Acting', 'name': 'Michael Le', 'original_name': 'Michael Le', 'popularity': 0.001, 'profile_path': None, 'cast_id': 199, 'character': 'Guy with Phone', 'credit_id': '61bfe5d6f29d660099553794', 'order': 51}, {'adult': False, 'gender': 2, 'id': 3353044, 'known_for_department': 'Acting', 'name': 'Dean Meminger', 'original_name': 'Dean Meminger', 'popularity': 0.302, 'profile_path': '/zjCC8h9PoAd8b35X0NPXWajb6jS.jpg', 'cast_id': 200, 'character': 'NY1 Reporter', 'credit_id': '61bfe60c0443c9001c14d8c5', 'order': 52}, {'adult': False, 'gender': 2, 'id': 3353045, 'known_for_department': 'Acting', 'name': 'Frederick A. Brown', 'original_name': 'Frederick A. Brown', 'popularity': 0.002, 'profile_path': None, 'cast_id': 201, 'character': 'Fred the Janitor', 'credit_id': '61bfe665a284eb0042ed7c2f', 'order': 53}, {'adult': False, 'gender': 2, 'id': 2627590, 'known_for_department': 'Acting', 'name': 'Cristo Fernández', 'original_name': 'Cristo Fernández', 'popularity': 4.533, 'profile_path': '/irx5BVVLSQWY9m5NrhqyxPekwIY.jpg', 'cast_id': 172, 'character': 'Bartender', 'credit_id': '61bbd374d2f5b50041b36fa0', 'order': 54}, {'adult': False, 'gender': 2, 'id': 190611, 'known_for_department': 'Acting', 'name': 'Clay Savage', 'original_name': 'Clay Savage', 'popularity': 0.344, 'profile_path': '/tcfDLxCS2488MtdDTrgFmk1HuR2.jpg', 'cast_id': 202, 'character': 'Suit Voice (voice)', 'credit_id': '61bfe688a84ff7008d2b5155', 'order': 55}, {'adult': False, 'gender': 2, 'id': 2524, 'known_for_department': 'Acting', 'name': 'Tom Hardy', 'original_name': 'Tom Hardy', 'popularity': 51.902, 'profile_path': '/d81K0RH8UX7tZj49tZaQhZ9ewH.jpg', 'cast_id': 170, 'character': 'Eddie Brock / Venom (uncredited)', 'credit_id': '61bb4362e72fe800615f702e', 'order': 56}, {'adult': False, 'gender': 2, 'id': 3476760, 'known_for_department': 'Production', 'name': 'Jay Karales', 'original_name': 'Jay Karales', 'popularity': 0.724, 'profile_path': '/fVhZzWsTierUtyG6cuMVYA2PlVk.jpg', 'cast_id': 251, 'character': 'Bodega Customer (uncredited)', 'credit_id': '623aa2ad719aeb0091545975', 'order': 57}, {'adult': False, 'gender': 2, 'id': 3417117, 'known_for_department': 'Directing', 'name': 'John Barnes', 'original_name': 'John Barnes', 'popularity': 0.003, 'profile_path': None, 'cast_id': 269, 'character': 'School Protester (uncredited)', 'credit_id': '63d154989e45860079cddbcc', 'order': 58}, {'adult': False, 'gender': 2, 'id': 1674196, 'known_for_department': 'Acting', 'name': 'Harry Holland', 'original_name': 'Harry Holland', 'popularity': 7.03, 'profile_path': '/3Kcn0dQfQoxKTo9cvdzqtjWdSWy.jpg', 'cast_id': 273, 'character': 'Shaker Kid (uncredited)', 'credit_id': '642bf61c9cc67b059cc58c16', 'order': 59}, {'adult': False, 'gender': 0, 'id': 4118717, 'known_for_department': 'Acting', 'name': 'John M. Maiers', 'original_name': 'John M. Maiers', 'popularity': 0.146, 'profile_path': '/bMzPgitNtPDT7E3i1HylgR0egDr.jpg', 'cast_id': 281, 'character': 'Paparazzi (uncredited)', 'credit_id': '658f572219ab592cfa561c9f', 'order': 60}, {'adult': False, 'gender': 2, 'id': 4727855, 'known_for_department': 'Acting', 'name': 'Cole Failing', 'original_name': 'Cole Failing', 'popularity': 0.001, 'profile_path': '/jzXZ9AlfHKMKZ15Noxn9u1DimSA.jpg', 'cast_id': 288, 'character': 'Midtown High Student (uncredited)', 'credit_id': '66dfff3dca33c5636a6cc422', 'order': 61}, {'adult': False, 'gender': 2, 'id': 2559822, 'known_for_department': 'Acting', 'name': 'Robert Tinsley', 'original_name': 'Robert Tinsley', 'popularity': 0.396, 'profile_path': '/nItlsVk5dKZwApUIMe3A3IkkGqc.jpg', 'cast_id': 325, 'character': 'Protestor / Pedestrian (uncredited)', 'credit_id': '67b8247ea2284666f1eb3ad0', 'order': 62}], 'crew': [{'adult': False, 'gender': 0, 'id': 2441330, 'known_for_department': 'Costume & Make-Up', 'name': 'Bridgit Crider', 'original_name': 'Bridgit Crider', 'popularity': 0.097, 'profile_path': None, 'credit_id': '6219fece19ab59004298dc84', 'department': 'Costume & Make-Up', 'job': 'Key Makeup Artist'}, {'adult': False, 'gender': 0, 'id': 3165992, 'known_for_department': 'Costume & Make-Up', 'name': 'Ellen Arden', 'original_name': 'Ellen Arden', 'popularity': 0.023, 'profile_path': None, 'credit_id': '6219fe437b7b4d006c86cc40', 'department': 'Costume & Make-Up', 'job': 'Key Makeup Artist'}, {'adult': False, 'gender': 0, 'id': 3444371, 'known_for_department': 'Art', 'name': 'Ali Safdari', 'original_name': 'Ali Safdari', 'popularity': 0.006, 'profile_path': None, 'credit_id': '6219fd9792e55b0041f1f695', 'department': 'Art', 'job': 'Art Direction'}, {'adult': False, 'gender': 0, 'id': 3444374, 'known_for_department': 'Costume & Make-Up', 'name': 'Kat Connelly', 'original_name': 'Kat Connelly', 'popularity': 0.001, 'profile_path': None, 'credit_id': '6219fe8a0e597b006924c955', 'department': 'Costume & Make-Up', 'job': 'Key Makeup Artist'}, {'adult': False, 'gender': 0, 'id': 3444389, 'known_for_department': 'Costume & Make-Up', 'name': 'Lali Peer', 'original_name': 'Lali Peer', 'popularity': 0.001, 'profile_path': None, 'credit_id': '621a0228a8858700421d8841', 'department': 'Costume & Make-Up', 'job': 'Makeup Artist'}, {'adult': False, 'gender': 0, 'id': 3444382, 'known_for_department': 'Costume & Make-Up', 'name': 'Dominic Mombrun', 'original_name': 'Dominic Mombrun', 'popularity': 0.006, 'profile_path': None, 'credit_id': '621a006990cf510018a98a15', 'department': 'Costume & Make-Up', 'job': 'Prosthetics'}, {'adult': False, 'gender': 1, 'id': 1427498, 'known_for_department': 'Costume & Make-Up', 'name': 'Rachael Speke', 'original_name': 'Rachael Speke', 'popularity': 0.787, 'profile_path': None, 'credit_id': '621a02c6383df2006c19c786', 'department': 'Costume & Make-Up', 'job': 'Makeup Artist'}, {'adult': False, 'gender': 0, 'id': 3444381, 'known_for_department': 'Costume & Make-Up', 'name': 'Donald McInnes', 'original_name': 'Donald McInnes', 'popularity': 0.001, 'profile_path': None, 'credit_id': '621a0026dd926a001b3a2aa3', 'department': 'Costume & Make-Up', 'job': 'Hairstylist'}, {'adult': False, 'gender': 1, 'id': 3066573, 'known_for_department': 'Costume & Make-Up', 'name': 'Lane Friedman', 'original_name': 'Lane Friedman', 'popularity': 0.108, 'profile_path': '/zolLAyAX5SrL9tLKdJKmktqg1WQ.jpg', 'credit_id': '6219ff667b7b4d004278c960', 'department': 'Costume & Make-Up', 'job': 'Hair Department Head'}, {'adult': False, 'gender': 0, 'id': 3444381, 'known_for_department': 'Costume & Make-Up', 'name': 'Donald McInnes', 'original_name': 'Donald McInnes', 'popularity': 0.001, 'profile_path': None, 'credit_id': '621a003979a1c3001b68694b', 'department': 'Costume & Make-Up', 'job': 'Makeup Artist'}, {'adult': False, 'gender': 1, 'id': 1484966, 'known_for_department': 'Costume & Make-Up', 'name': 'Anne Morgan', 'original_name': 'Anne Morgan', 'popularity': 0.094, 'profile_path': '/i4OXPeBd0RTM1MwJsufZ4aVCccr.jpg', 'credit_id': '621a00a03c434400427f8768', 'department': 'Costume & Make-Up', 'job': 'Hairstylist'}, {'adult': False, 'gender': 2, 'id': 1971547, 'known_for_department': 'Costume & Make-Up', 'name': 'Tim Muir', 'original_name': 'Tim Muir', 'popularity': 0.001, 'profile_path': None, 'credit_id': '621a00cc90cf5100613ad48d', 'department': 'Costume & Make-Up', 'job': 'Hairstylist'}, {'adult': False, 'gender': 0, 'id': 3444384, 'known_for_department': 'Costume & Make-Up', 'name': 'Shuayb Naimo', 'original_name': 'Shuayb Naimo', 'popularity': 0.001, 'profile_path': None, 'credit_id': '621a00fba8858700421d86d9', 'department': 'Costume & Make-Up', 'job': 'Makeup Artist'}, {'adult': False, 'gender': 1, 'id': 1412767, 'known_for_department': 'Costume & Make-Up', 'name': 'Yeşim \"Shimmy\" Osman', 'original_name': 'Yeşim \"Shimmy\" Osman', 'popularity': 1.04, 'profile_path': None, 'credit_id': '621a014379a1c30043fe0e48', 'department': 'Costume & Make-Up', 'job': 'Hairstylist'}, {'adult': False, 'gender': 1, 'id': 1427498, 'known_for_department': 'Costume & Make-Up', 'name': 'Rachael Speke', 'original_name': 'Rachael Speke', 'popularity': 0.787, 'profile_path': None, 'credit_id': '621a02b6dd926a001b3a2e14', 'department': 'Costume & Make-Up', 'job': 'Hairstylist'}, {'adult': False, 'gender': 1, 'id': 3462666, 'known_for_department': 'Production', 'name': 'Emily Fong', 'original_name': 'Emily Fong', 'popularity': 0.02, 'profile_path': None, 'credit_id': '622cb7a8eda4b70018300d20', 'department': 'Production', 'job': 'Associate Producer'}, {'adult': False, 'gender': 2, 'id': 57027, 'known_for_department': 'Production', 'name': \"Louis D'Esposito\", 'original_name': \"Louis D'Esposito\", 'popularity': 4.091, 'profile_path': '/mPy6hxHrHoEOWdljLyZM6DNBSPn.jpg', 'credit_id': '612452e63a9650005c37018e', 'department': 'Production', 'job': 'Executive Producer'}, {'adult': False, 'gender': 2, 'id': 7626, 'known_for_department': 'Production', 'name': 'Avi Arad', 'original_name': 'Avi Arad', 'popularity': 6.147, 'profile_path': '/cxmqw0anGfxC7RwUNQj3EwhX9pP.jpg', 'credit_id': '61245317eb09320045a3d21d', 'department': 'Production', 'job': 'Executive Producer'}, {'adult': False, 'gender': 2, 'id': 977941, 'known_for_department': 'Production', 'name': 'Matt Tolmach', 'original_name': 'Matt Tolmach', 'popularity': 0.12, 'profile_path': '/8mniHJVwoJdVpwxW278yJwz8c1T.jpg', 'credit_id': '61245326501cf20075ac6766', 'department': 'Production', 'job': 'Executive Producer'}, {'adult': False, 'gender': 1, 'id': 1774412, 'known_for_department': 'Production', 'name': \"Rachel O'Connor\", 'original_name': \"Rachel O'Connor\", 'popularity': 0.147, 'profile_path': '/xj3xmjuoV8qrxC6QOmHWDVsLZFq.jpg', 'credit_id': '6124530a0f2fbd004815b6cb', 'department': 'Production', 'job': 'Executive Producer'}, {'adult': False, 'gender': 1, 'id': 113674, 'known_for_department': 'Production', 'name': 'Victoria Alonso', 'original_name': 'Victoria Alonso', 'popularity': 2.058, 'profile_path': '/7HfCAsks2D1xMsW4HHhFUuvptmq.jpg', 'credit_id': '612452f1db4ed60045590aa1', 'department': 'Production', 'job': 'Executive Producer'}, {'adult': False, 'gender': 1, 'id': 59834, 'known_for_department': 'Production', 'name': 'JoAnn Perritano', 'original_name': 'JoAnn Perritano', 'popularity': 0.619, 'profile_path': None, 'credit_id': '612452fd66ae4d005b58ad0d', 'department': 'Production', 'job': 'Executive Producer'}, {'adult': False, 'gender': 1, 'id': 1521454, 'known_for_department': 'Costume & Make-Up', 'name': 'Nancy Cummings', 'original_name': 'Nancy Cummings', 'popularity': 0.008, 'profile_path': '/vZqIeaMevpPBwEfVLoRWwGVZhrf.jpg', 'credit_id': '6126ee9be8a3e1008cf490b4', 'department': 'Costume & Make-Up', 'job': 'Makeup Artist'}, {'adult': False, 'gender': 0, 'id': 3162820, 'known_for_department': 'Costume & Make-Up', 'name': 'Heather Benson', 'original_name': 'Heather Benson', 'popularity': 0.071, 'profile_path': None, 'credit_id': '6126ee9155c926008edc49fb', 'department': 'Costume & Make-Up', 'job': 'Makeup Artist'}, {'adult': False, 'gender': 0, 'id': 1741033, 'known_for_department': 'Art', 'name': 'Frances Lynn Lebar', 'original_name': 'Frances Lynn Lebar', 'popularity': 0.055, 'profile_path': None, 'credit_id': '6126ee59f29d660065323a6a', 'department': 'Art', 'job': 'Art Direction'}, {'adult': False, 'gender': 0, 'id': 2189751, 'known_for_department': 'Costume & Make-Up', 'name': 'Carla Wallace', 'original_name': 'Carla Wallace', 'popularity': 0.038, 'profile_path': None, 'credit_id': '6126eeb52dffd8008b651db1', 'department': 'Costume & Make-Up', 'job': 'Makeup Artist'}, {'adult': False, 'gender': 2, 'id': 1046602, 'known_for_department': 'Art', 'name': 'Brian Stultz', 'original_name': 'Brian Stultz', 'popularity': 0.364, 'profile_path': None, 'credit_id': '6126ee6f2dffd8006152886d', 'department': 'Art', 'job': 'Art Direction'}, {'adult': False, 'gender': 1, 'id': 1463296, 'known_for_department': 'Art', 'name': 'Samantha Avila', 'original_name': 'Samantha Avila', 'popularity': 0.102, 'profile_path': None, 'credit_id': '6126ee4faaf897009475154b', 'department': 'Art', 'job': 'Art Direction'}, {'adult': False, 'gender': 0, 'id': 1463335, 'known_for_department': 'Art', 'name': 'Kristen Maloney', 'original_name': 'Kristen Maloney', 'popularity': 0.01, 'profile_path': None, 'credit_id': '6126ee648a84d20042c2a7f3', 'department': 'Art', 'job': 'Art Direction'}, {'adult': False, 'gender': 0, 'id': 3212601, 'known_for_department': 'Costume & Make-Up', 'name': 'Yvonne Eagle', 'original_name': 'Yvonne Eagle', 'popularity': 0.001, 'profile_path': None, 'credit_id': '6126eea8f29d660065323b59', 'department': 'Costume & Make-Up', 'job': 'Makeup Artist'}, {'adult': False, 'gender': 2, 'id': 3213019, 'known_for_department': 'Writing', 'name': 'Chiranjiv Makwana', 'original_name': 'Chiranjiv Makwana', 'popularity': 0.461, 'profile_path': None, 'credit_id': '61278ea22dffd8002cb03e45', 'department': 'Visual Effects', 'job': 'Animation Director'}, {'adult': False, 'gender': 2, 'id': 92303, 'known_for_department': 'Costume & Make-Up', 'name': 'Gary Archer', 'original_name': 'Gary Archer', 'popularity': 1.788, 'profile_path': '/7cinROGhbaTpWPRrD12Za2XyZcV.jpg', 'credit_id': '62c33e774a4bfc007b27ffc4', 'department': 'Costume & Make-Up', 'job': 'Prosthetics'}, {'adult': False, 'gender': 2, 'id': 18265, 'known_for_department': 'Camera', 'name': 'Mauro Fiore', 'original_name': 'Mauro Fiore', 'popularity': 1.495, 'profile_path': '/zWenMq5JMuHMU7Nx1Qaicy6fizC.jpg', 'credit_id': '61282f5ae04aca0043ddd51d', 'department': 'Camera', 'job': 'Director of Photography'}, {'adult': False, 'gender': 1, 'id': 1826944, 'known_for_department': 'Crew', 'name': 'Marie Fink', 'original_name': 'Marie Fink', 'popularity': 0.364, 'profile_path': '/d59Gg9ZzMhq3cmoJczHNrcY7YUX.jpg', 'credit_id': '651748a6967cc700e29c6a0b', 'department': 'Crew', 'job': 'Stunts'}, {'adult': False, 'gender': 2, 'id': 1463691, 'known_for_department': 'Crew', 'name': 'Eric Stratemeier', 'original_name': 'Eric Stratemeier', 'popularity': 0.684, 'profile_path': '/j9eOttg2cpRQwBnWLRqWdopNVz0.jpg', 'credit_id': '6522b125ab5e34011bd6b0c8', 'department': 'Crew', 'job': 'Stunts'}, {'adult': False, 'gender': 0, 'id': 3082204, 'known_for_department': 'Visual Effects', 'name': 'Eric Mancha', 'original_name': 'Eric Mancha', 'popularity': 0.06, 'profile_path': None, 'credit_id': '614fc9de2f8d090061257d0f', 'department': 'Visual Effects', 'job': 'VFX Artist'}, {'adult': False, 'gender': 2, 'id': 83071, 'known_for_department': 'Directing', 'name': 'David H. Venghaus Jr.', 'original_name': 'David H. Venghaus Jr.', 'popularity': 2.842, 'profile_path': None, 'credit_id': '615c6388dbf144008c5c84ba', 'department': 'Production', 'job': 'Associate Producer'}, {'adult': False, 'gender': 2, 'id': 1382000, 'known_for_department': 'Writing', 'name': 'Brian Michael Bendis', 'original_name': 'Brian Michael Bendis', 'popularity': 0.862, 'profile_path': '/zYcyWooAjXFJCU7GVyzvHDqpPP0.jpg', 'credit_id': '6303213821118f0080a0b60f', 'department': 'Crew', 'job': 'Thanks'}, {'adult': False, 'gender': 2, 'id': 1187909, 'known_for_department': 'Writing', 'name': 'Joe Quesada', 'original_name': 'Joe Quesada', 'popularity': 1.117, 'profile_path': '/lXvr9yj4OpPDLojusbKYowp9zZX.jpg', 'credit_id': '630321d37ad08c007d48f92f', 'department': 'Crew', 'job': 'Thanks'}, {'adult': False, 'gender': 2, 'id': 3611385, 'known_for_department': 'Crew', 'name': 'Giuseppe Camuncoli', 'original_name': 'Giuseppe Camuncoli', 'popularity': 0.027, 'profile_path': None, 'credit_id': '630321545f4b73007faac977', 'department': 'Crew', 'job': 'Thanks'}, {'adult': False, 'gender': 2, 'id': 3580759, 'known_for_department': 'Crew', 'name': 'Ernie Colon', 'original_name': 'Ernie Colon', 'popularity': 0.007, 'profile_path': None, 'credit_id': '6303216d7ad08c007aa2eeea', 'department': 'Crew', 'job': 'Thanks'}, {'adult': False, 'gender': 2, 'id': 1770815, 'known_for_department': 'Writing', 'name': 'Bill Everett', 'original_name': 'Bill Everett', 'popularity': 0.048, 'profile_path': None, 'credit_id': '630321a7dfe31d007b82cd1d', 'department': 'Crew', 'job': 'Thanks'}, {'adult': False, 'gender': 2, 'id': 128988, 'known_for_department': 'Writing', 'name': 'John Romita Jr.', 'original_name': 'John Romita Jr.', 'popularity': 0.63, 'profile_path': '/AjmWmwnDO8HPtWUYqQe8d9eFlWe.jpg', 'credit_id': '630321f5097c49009110ccdd', 'department': 'Crew', 'job': 'Thanks'}, {'adult': False, 'gender': 1, 'id': 3672686, 'known_for_department': 'Crew', 'name': 'Sara Pichelli', 'original_name': 'Sara Pichelli', 'popularity': 0.144, 'profile_path': None, 'credit_id': '630321ca5f4b73007faac99b', 'department': 'Crew', 'job': 'Thanks'}, {'adult': False, 'gender': 2, 'id': 3672687, 'known_for_department': 'Art', 'name': 'Paolo Rivera', 'original_name': 'Paolo Rivera', 'popularity': 0.001, 'profile_path': None, 'credit_id': '630321e67ad08c007d48f93c', 'department': 'Crew', 'job': 'Thanks'}, {'adult': False, 'gender': 2, 'id': 2647893, 'known_for_department': 'Crew', 'name': 'Dan Slott', 'original_name': 'Dan Slott', 'popularity': 0.25, 'profile_path': '/AphtKHHp9Nn8G9p3nSvfmidBUTQ.jpg', 'credit_id': '630321fedfe31d008010c91f', 'department': 'Crew', 'job': 'Thanks'}, {'adult': False, 'gender': 2, 'id': 2727055, 'known_for_department': 'Crew', 'name': 'Olivier Coipel', 'original_name': 'Olivier Coipel', 'popularity': 0.097, 'profile_path': None, 'credit_id': '6303215d7ad08c0082503d86', 'department': 'Crew', 'job': 'Thanks'}, {'adult': False, 'gender': 2, 'id': 18877, 'known_for_department': 'Writing', 'name': 'Don Heck', 'original_name': 'Don Heck', 'popularity': 3.881, 'profile_path': '/i6LYusY0feetOUeyUx4eftNCmpt.jpg', 'credit_id': '630321b04fd141007fc52f25', 'department': 'Crew', 'job': 'Thanks'}, {'adult': False, 'gender': 2, 'id': 105644, 'known_for_department': 'Writing', 'name': 'Dwayne McDuffie', 'original_name': 'Dwayne McDuffie', 'popularity': 1.94, 'profile_path': '/g72XJpetIstOArmmDKq5pHjfPTy.jpg', 'credit_id': '630321b97d41aa0079be1797', 'department': 'Crew', 'job': 'Thanks'}, {'adult': False, 'gender': 2, 'id': 2136834, 'known_for_department': 'Crew', 'name': 'Robert Bernstein', 'original_name': 'Robert Bernstein', 'popularity': 0.053, 'profile_path': None, 'credit_id': '630321465f4b730082684ab9', 'department': 'Crew', 'job': 'Thanks'}, {'adult': False, 'gender': 2, 'id': 33045, 'known_for_department': 'Writing', 'name': 'J. Michael Straczynski', 'original_name': 'J. Michael Straczynski', 'popularity': 1.406, 'profile_path': '/ezbudNhoJcgIGZdx74D6kPmu1Yp.jpg', 'credit_id': '6303220b839d93007e4cc760', 'department': 'Crew', 'job': 'Thanks'}, {'adult': False, 'gender': 0, 'id': 2483629, 'known_for_department': 'Art', 'name': 'Sally Ledger', 'original_name': 'Sally Ledger', 'popularity': 0.221, 'profile_path': None, 'credit_id': '6186e95c63a6950045cf82bc', 'department': 'Art', 'job': 'Assistant Art Director'}, {'adult': False, 'gender': 0, 'id': 3078266, 'known_for_department': 'Art', 'name': 'Nicanor Mendoza III', 'original_name': 'Nicanor Mendoza III', 'popularity': 0.001, 'profile_path': None, 'credit_id': '6186e9b9a313b80042d4389d', 'department': 'Art', 'job': 'Set Designer'}, {'adult': False, 'gender': 1, 'id': 1339444, 'known_for_department': 'Art', 'name': 'Anne Porter', 'original_name': 'Anne Porter', 'popularity': 0.211, 'profile_path': None, 'credit_id': '6186e9c7c5c1ef0043e6f01b', 'department': 'Art', 'job': 'Set Designer'}, {'adult': False, 'gender': 0, 'id': 2275985, 'known_for_department': 'Costume & Make-Up', 'name': 'Shawn Janifer', 'original_name': 'Shawn Janifer', 'popularity': 0.063, 'profile_path': None, 'credit_id': '6186e8e8c5c1ef0061ee3782', 'department': 'Costume & Make-Up', 'job': 'Makeup Artist'}, {'adult': False, 'gender': 2, 'id': 1928015, 'known_for_department': 'Art', 'name': 'Justin Trudeau', 'original_name': 'Justin Trudeau', 'popularity': 0.122, 'profile_path': None, 'credit_id': '6186e9e4c5c1ef0043e6f067', 'department': 'Art', 'job': 'Set Designer'}, {'adult': False, 'gender': 1, 'id': 2028806, 'known_for_department': 'Art', 'name': 'Kristen Jenkins', 'original_name': 'Kristen Jenkins', 'popularity': 0.176, 'profile_path': None, 'credit_id': '6186e979d48cee0024f11f8b', 'department': 'Art', 'job': 'Set Designer'}, {'adult': False, 'gender': 2, 'id': 1400555, 'known_for_department': 'Art', 'name': 'George Lee', 'original_name': 'George Lee', 'popularity': 1.492, 'profile_path': None, 'credit_id': '6186e990d388ae0043fe914d', 'department': 'Art', 'job': 'Set Designer'}, {'adult': False, 'gender': 0, 'id': 1669138, 'known_for_department': 'Sound', 'name': 'Ken McGill', 'original_name': 'Ken McGill', 'popularity': 0.386, 'profile_path': None, 'credit_id': '6186ebae595a5600438eea0d', 'department': 'Sound', 'job': 'Sound Designer'}, {'adult': False, 'gender': 0, 'id': 2264331, 'known_for_department': 'Sound', 'name': 'Sam Fan', 'original_name': 'Sam Fan', 'popularity': 0.186, 'profile_path': None, 'credit_id': '6186ea2ed388ae00612e36f5', 'department': 'Sound', 'job': 'Sound Effects Editor'}, {'adult': False, 'gender': 0, 'id': 3299654, 'known_for_department': 'Costume & Make-Up', 'name': 'Sheika Daley', 'original_name': 'Sheika Daley', 'popularity': 0.001, 'profile_path': None, 'credit_id': '6186e8d7f8aee80091eea173', 'department': 'Costume & Make-Up', 'job': 'Makeup Artist'}, {'adult': False, 'gender': 0, 'id': 1352962, 'known_for_department': 'Art', 'name': 'Tammy S. Lee', 'original_name': 'Tammy S. Lee', 'popularity': 0.489, 'profile_path': None, 'credit_id': '6186e99bcb6db5002c31f8a2', 'department': 'Art', 'job': 'Set Designer'}, {'adult': False, 'gender': 0, 'id': 1842138, 'known_for_department': 'Art', 'name': 'Patrick Dunn-Baker', 'original_name': 'Patrick Dunn-Baker', 'popularity': 0.104, 'profile_path': None, 'credit_id': '6186e94bd48cee0024f11ee7', 'department': 'Art', 'job': 'Set Designer'}, {'adult': False, 'gender': 0, 'id': 1842147, 'known_for_department': 'Art', 'name': 'Chris Sanford', 'original_name': 'Chris Sanford', 'popularity': 0.004, 'profile_path': None, 'credit_id': '6186e9d40752880063cd5b30', 'department': 'Art', 'job': 'Set Designer'}, {'adult': False, 'gender': 0, 'id': 1842148, 'known_for_department': 'Sound', 'name': 'Justin M. Davey', 'original_name': 'Justin M. Davey', 'popularity': 0.052, 'profile_path': None, 'credit_id': '6186ea1e8ed03f0063740929', 'department': 'Sound', 'job': 'Sound Effects Editor'}, {'adult': False, 'gender': 2, 'id': 1575769, 'known_for_department': 'Visual Effects', 'name': 'Scott Edelstein', 'original_name': 'Scott Edelstein', 'popularity': 0.216, 'profile_path': None, 'credit_id': '6186ec313faba0002c479f53', 'department': 'Visual Effects', 'job': 'Visual Effects Supervisor'}, {'adult': False, 'gender': 2, 'id': 1378171, 'known_for_department': 'Sound', 'name': \"Kevin O'Connell\", 'original_name': \"Kevin O'Connell\", 'popularity': 2.604, 'profile_path': None, 'credit_id': '6186ebc2ddd52d0026baeff0', 'department': 'Sound', 'job': 'Sound Re-Recording Mixer'}, {'adult': False, 'gender': 0, 'id': 1806023, 'known_for_department': 'Visual Effects', 'name': 'Nicholas Murphy', 'original_name': 'Nicholas Murphy', 'popularity': 0.406, 'profile_path': None, 'credit_id': '6186ecbfa313b80042d43e49', 'department': 'Visual Effects', 'job': 'Visual Effects Producer'}, {'adult': False, 'gender': 2, 'id': 1389858, 'known_for_department': 'Sound', 'name': 'Jamie Hardt', 'original_name': 'Jamie Hardt', 'popularity': 1.4, 'profile_path': None, 'credit_id': '6186eb761fd36f00628453ee', 'department': 'Sound', 'job': 'Sound Effects Editor'}, {'adult': False, 'gender': 2, 'id': 1395447, 'known_for_department': 'Sound', 'name': 'Steven Ticknor', 'original_name': 'Steven Ticknor', 'popularity': 0.145, 'profile_path': None, 'credit_id': '6186ebd0ddd52d008a025bbe', 'department': 'Sound', 'job': 'Supervising Sound Editor'}, {'adult': False, 'gender': 1, 'id': 3119239, 'known_for_department': 'Art', 'name': 'Silvia Mahapatra', 'original_name': 'Silvia Mahapatra', 'popularity': 1.028, 'profile_path': None, 'credit_id': '6186e9a970309f00439352e1', 'department': 'Art', 'job': 'Set Designer'}, {'adult': False, 'gender': 0, 'id': 2895516, 'known_for_department': 'Costume & Make-Up', 'name': 'Darla Wigley', 'original_name': 'Darla Wigley', 'popularity': 0.003, 'profile_path': None, 'credit_id': '6186e8ffd388ae008a13c9c4', 'department': 'Costume & Make-Up', 'job': 'Makeup Artist'}, {'adult': False, 'gender': 1, 'id': 2783486, 'known_for_department': 'Visual Effects', 'name': 'Diana Cobo', 'original_name': 'Diana Cobo', 'popularity': 0.011, 'profile_path': None, 'credit_id': '6186ec1975f1ad0027468c92', 'department': 'Visual Effects', 'job': 'Visual Effects Producer'}, {'adult': False, 'gender': 2, 'id': 1634431, 'known_for_department': 'Visual Effects', 'name': 'Bryan Haines', 'original_name': 'Bryan Haines', 'popularity': 0.423, 'profile_path': None, 'credit_id': '6186ec46d48cee0062d4276f', 'department': 'Visual Effects', 'job': 'VFX Artist'}, {'adult': False, 'gender': 0, 'id': 1705807, 'known_for_department': 'Sound', 'name': 'Takako Ishikawa', 'original_name': 'Takako Ishikawa', 'popularity': 0.039, 'profile_path': None, 'credit_id': '6186eb8cd388ae002c025575', 'department': 'Sound', 'job': 'Sound Effects Editor'}, {'adult': False, 'gender': 2, 'id': 13179, 'known_for_department': 'Sound', 'name': 'Tony Lamberti', 'original_name': 'Tony Lamberti', 'popularity': 1.49, 'profile_path': '/gICSJtipCXdHOoQ7QSBesXDgppg.jpg', 'credit_id': '6186eb9b1c6aa7002ca2ffb0', 'department': 'Sound', 'job': 'Sound Re-Recording Mixer'}, {'adult': False, 'gender': 0, 'id': 3169987, 'known_for_department': 'Visual Effects', 'name': 'Daniel Hazeltine', 'original_name': 'Daniel Hazeltine', 'popularity': 0.029, 'profile_path': None, 'credit_id': '6186ec5570309f002a0e5faa', 'department': 'Visual Effects', 'job': 'VFX Artist'}, {'adult': False, 'gender': 0, 'id': 1417839, 'known_for_department': 'Costume & Make-Up', 'name': 'David Butler', 'original_name': 'David Butler', 'popularity': 0.293, 'profile_path': None, 'credit_id': '6186ed42e741460084c38d87', 'department': 'Costume & Make-Up', 'job': 'Set Costumer'}, {'adult': False, 'gender': 1, 'id': 1636660, 'known_for_department': 'Costume & Make-Up', 'name': 'Jessica Pazdernik', 'original_name': 'Jessica Pazdernik', 'popularity': 0.043, 'profile_path': None, 'credit_id': '6186ed53e741460084c38d97', 'department': 'Costume & Make-Up', 'job': 'Costume Supervisor'}, {'adult': False, 'gender': 1, 'id': 1418408, 'known_for_department': 'Costume & Make-Up', 'name': 'Pamela Waggoner', 'original_name': 'Pamela Waggoner', 'popularity': 0.073, 'profile_path': None, 'credit_id': '6186ed7813a3880044eeec7f', 'department': 'Costume & Make-Up', 'job': 'Set Costumer'}, {'adult': False, 'gender': 0, 'id': 1813981, 'known_for_department': 'Production', 'name': 'Michael Killoren', 'original_name': 'Michael Killoren', 'popularity': 0.001, 'profile_path': None, 'credit_id': '6186ec7addd52d008a025d3c', 'department': 'Visual Effects', 'job': 'Visual Effects Producer'}, {'adult': False, 'gender': 0, 'id': 2014456, 'known_for_department': 'Costume & Make-Up', 'name': 'Kevin Boyett', 'original_name': 'Kevin Boyett', 'popularity': 0.342, 'profile_path': None, 'credit_id': '6186ed3470309f0043935a2e', 'department': 'Costume & Make-Up', 'job': 'Set Costumer'}, {'adult': False, 'gender': 0, 'id': 2150980, 'known_for_department': 'Visual Effects', 'name': 'Cody Stoof', 'original_name': 'Cody Stoof', 'popularity': 0.182, 'profile_path': None, 'credit_id': '6186ece9e93e950062637e3d', 'department': 'Visual Effects', 'job': 'VFX Artist'}, {'adult': False, 'gender': 1, 'id': 1439109, 'known_for_department': 'Costume & Make-Up', 'name': 'Nava R. Sadan', 'original_name': 'Nava R. Sadan', 'popularity': 0.465, 'profile_path': None, 'credit_id': '6186ed611fd36f00628457e5', 'department': 'Costume & Make-Up', 'job': 'Costume Supervisor'}, {'adult': False, 'gender': 0, 'id': 1649516, 'known_for_department': 'Visual Effects', 'name': 'Brendan Seals', 'original_name': 'Brendan Seals', 'popularity': 0.343, 'profile_path': None, 'credit_id': '6186ecdaddd52d008a025e15', 'department': 'Visual Effects', 'job': 'Visual Effects Supervisor'}, {'adult': False, 'gender': 2, 'id': 1928587, 'known_for_department': 'Visual Effects', 'name': 'Chris Waegner', 'original_name': 'Chris Waegner', 'popularity': 0.174, 'profile_path': '/8TeyiRFfSfuEzgq9srQTOGiCC1W.jpg', 'credit_id': '6186ed1869d2800093347fcc', 'department': 'Visual Effects', 'job': 'Visual Effects Supervisor'}, {'adult': False, 'gender': 0, 'id': 2092975, 'known_for_department': 'Costume & Make-Up', 'name': 'Addy Steigerwalt', 'original_name': 'Addy Steigerwalt', 'popularity': 0.062, 'profile_path': None, 'credit_id': '6186ed6c1fd36f00628457eb', 'department': 'Costume & Make-Up', 'job': 'Set Costumer'}, {'adult': False, 'gender': 0, 'id': 1460748, 'known_for_department': 'Costume & Make-Up', 'name': 'Kate Abraham', 'original_name': 'Kate Abraham', 'popularity': 0.027, 'profile_path': None, 'credit_id': '6186ed293faba0002c47a153', 'department': 'Costume & Make-Up', 'job': 'Set Costumer'}, {'adult': False, 'gender': 2, 'id': 1354927, 'known_for_department': 'Visual Effects', 'name': 'Ed Bruce', 'original_name': 'Ed Bruce', 'popularity': 0.48, 'profile_path': None, 'credit_id': '6186ebfde7414600438f8da3', 'department': 'Visual Effects', 'job': 'Visual Effects Supervisor'}, {'adult': False, 'gender': 2, 'id': 3315275, 'known_for_department': 'Visual Effects', 'name': 'Lahiru Jay', 'original_name': 'Lahiru Jay', 'popularity': 0.002, 'profile_path': None, 'credit_id': '6196a3e549756000432242f7', 'department': 'Visual Effects', 'job': 'VFX Artist'}, {'adult': False, 'gender': 1, 'id': 1456721, 'known_for_department': 'Crew', 'name': 'Marian Green', 'original_name': 'Marian Green', 'popularity': 1.538, 'profile_path': '/zQmlJ1hMRMLjzK78vAjEbxDYuM2.jpg', 'credit_id': '6572bdcc55bc3500ff704a80', 'department': 'Crew', 'job': 'Stunts'}, {'adult': False, 'gender': 2, 'id': 1458580, 'known_for_department': 'Visual Effects', 'name': 'Kelly Port', 'original_name': 'Kelly Port', 'popularity': 0.602, 'profile_path': '/1hdYNSeveVWBsrIfca7HkKXphJ8.jpg', 'credit_id': '61bdc022a6a4c10061419366', 'department': 'Visual Effects', 'job': 'Visual Effects Supervisor'}, {'adult': False, 'gender': 2, 'id': 24192, 'known_for_department': 'Sound', 'name': 'Dave Jordan', 'original_name': 'Dave Jordan', 'popularity': 1.515, 'profile_path': '/btzUgkKCllxClxIgLhmhZ1qaPw.jpg', 'credit_id': '61bdc036fcadb40042a8c923', 'department': 'Sound', 'job': 'Music Supervisor'}, {'adult': False, 'gender': 2, 'id': 7625, 'known_for_department': 'Writing', 'name': 'Steve Ditko', 'original_name': 'Steve Ditko', 'popularity': 2.615, 'profile_path': '/sQrhCJxJtI8yqEeCHbdhSUztsHf.jpg', 'credit_id': '61bfdda2383df20062cdf586', 'department': 'Writing', 'job': 'Comic Book'}, {'adult': False, 'gender': 2, 'id': 1203115, 'known_for_department': 'Crew', 'name': 'Ben Jenkin', 'original_name': 'Ben Jenkin', 'popularity': 0.227, 'profile_path': '/gV6FlbpKCUrJIZfr2Ox18TfopX3.jpg', 'credit_id': '61bfe8f14da3d40040cb1232', 'department': 'Crew', 'job': 'Stunt Double'}, {'adult': False, 'gender': 2, 'id': 2899668, 'known_for_department': 'Crew', 'name': 'William R. Spencer', 'original_name': 'William R. Spencer', 'popularity': 0.067, 'profile_path': None, 'credit_id': '61bfe8b72da846009294d0f7', 'department': 'Crew', 'job': 'Stunt Double'}, {'adult': False, 'gender': 2, 'id': 1578283, 'known_for_department': 'Acting', 'name': 'Sergio Garcia', 'original_name': 'Sergio Garcia', 'popularity': 0.079, 'profile_path': None, 'credit_id': '61bfe8dff28838001cc70fe5', 'department': 'Crew', 'job': 'Stunt Double'}, {'adult': False, 'gender': 0, 'id': 1452866, 'known_for_department': 'Crew', 'name': 'Martin De Boer', 'original_name': 'Martin De Boer', 'popularity': 0.363, 'profile_path': None, 'credit_id': '61bfe88c873f000042c04451', 'department': 'Crew', 'job': 'Acting Double'}, {'adult': False, 'gender': 0, 'id': 237162, 'known_for_department': 'Acting', 'name': 'Greg Townley', 'original_name': 'Greg Townley', 'popularity': 0.464, 'profile_path': None, 'credit_id': '61bfe866f29d660099553d3d', 'department': 'Crew', 'job': 'Acting Double'}, {'adult': False, 'gender': 2, 'id': 2224833, 'known_for_department': 'Crew', 'name': 'David Elson', 'original_name': 'David Elson', 'popularity': 0.062, 'profile_path': '/8KM7BfZXgVqaAWjXqPS6hEdWWQI.jpg', 'credit_id': '61bfe8cefcadb40042ac5a55', 'department': 'Crew', 'job': 'Stunt Double'}, {'adult': False, 'gender': 2, 'id': 1278128, 'known_for_department': 'Crew', 'name': 'Luke Scott', 'original_name': 'Luke Scott', 'popularity': 0.202, 'profile_path': None, 'credit_id': '61bfe87ea44d090064b55657', 'department': 'Crew', 'job': 'Acting Double'}, {'adult': False, 'gender': 2, 'id': 1044956, 'known_for_department': 'Acting', 'name': 'Lloyd Pitts', 'original_name': 'Lloyd Pitts', 'popularity': 0.396, 'profile_path': '/xHbhOv2BzC3hKekpDDXK9Up4XYp.jpg', 'credit_id': '61bfe8a20143250065ddfa4c', 'department': 'Crew', 'job': 'Acting Double'}, {'adult': False, 'gender': 2, 'id': 7624, 'known_for_department': 'Writing', 'name': 'Stan Lee', 'original_name': 'Stan Lee', 'popularity': 11.84, 'profile_path': '/kKeyWoFtTqOPsbmwylNHmuB3En9.jpg', 'credit_id': '61bfdd94f28838008fd644dd', 'department': 'Writing', 'job': 'Comic Book'}, {'adult': False, 'gender': 2, 'id': 35176, 'known_for_department': 'Editing', 'name': 'Jeffrey Ford', 'original_name': 'Jeffrey Ford', 'popularity': 1.068, 'profile_path': '/fJePTuHsOeT8z4D6LFZlSMkDEqF.jpg', 'credit_id': '61d2bbd542f19f0064820c1d', 'department': 'Editing', 'job': 'Editor'}, {'adult': False, 'gender': 1, 'id': 1204244, 'known_for_department': 'Editing', 'name': 'Leigh Folsom Boyd', 'original_name': 'Leigh Folsom Boyd', 'popularity': 0.398, 'profile_path': '/twDY2v2jGPc5d8KBNb2wzuDr1I0.jpg', 'credit_id': '61d2bbe71c09fb006e01e9c9', 'department': 'Editing', 'job': 'Editor'}, {'adult': False, 'gender': 1, 'id': 2519, 'known_for_department': 'Costume & Make-Up', 'name': 'Sanja Milković Hays', 'original_name': 'Sanja Milković Hays', 'popularity': 1.666, 'profile_path': '/ystveLUUhvvKyH3M53WxCNNx2Ri.jpg', 'credit_id': '61d92db99824c8001c46fa27', 'department': 'Costume & Make-Up', 'job': 'Costume Design'}, {'adult': False, 'gender': 2, 'id': 1646992, 'known_for_department': 'Crew', 'name': 'Duffy Gaver', 'original_name': 'Duffy Gaver', 'popularity': 0.798, 'profile_path': '/14yzdJuofSlzYvzfa4v8cSrSxFe.jpg', 'credit_id': '658ac5c74da3d463f5430936', 'department': 'Crew', 'job': 'Stunts'}, {'adult': False, 'gender': 2, 'id': 3415551, 'known_for_department': 'Visual Effects', 'name': 'Satoshi Takazawa', 'original_name': 'Satoshi Takazawa', 'popularity': 0.903, 'profile_path': None, 'credit_id': '620014a61e9225004254b170', 'department': 'Visual Effects', 'job': 'VFX Artist'}, {'adult': False, 'gender': 0, 'id': 2364820, 'known_for_department': 'Costume & Make-Up', 'name': 'Robert Smithson', 'original_name': 'Robert Smithson', 'popularity': 0.011, 'profile_path': None, 'credit_id': '65ab4377c433ea00c274d3c8', 'department': 'Costume & Make-Up', 'job': 'Contact Lens Technician'}, {'adult': False, 'gender': 2, 'id': 2808013, 'known_for_department': 'Visual Effects', 'name': 'Reetu Aggarwal', 'original_name': 'Reetu Aggarwal', 'popularity': 0.164, 'profile_path': None, 'credit_id': '63a5f3088e8d300083ebb5eb', 'department': 'Visual Effects', 'job': '3D Artist'}, {'adult': False, 'gender': 2, 'id': 1367516, 'known_for_department': 'Crew', 'name': 'Timothy Eulich', 'original_name': 'Timothy Eulich', 'popularity': 3.037, 'profile_path': '/xIfRmiBGtWogkRYAjbgIX7i4cuv.jpg', 'credit_id': '641511dd0d5d85008386279d', 'department': 'Crew', 'job': 'Stunts'}, {'adult': False, 'gender': 1, 'id': 3623031, 'known_for_department': 'Sound', 'name': 'Jennie Shea', 'original_name': 'Jennie Shea', 'popularity': 0.087, 'profile_path': None, 'credit_id': '64172fcb0d5d85009ba22284', 'department': 'Sound', 'job': 'ADR Recordist'}, {'adult': False, 'gender': 0, 'id': 3979237, 'known_for_department': 'Camera', 'name': 'James Henry Benton', 'original_name': 'James Henry Benton', 'popularity': 0.008, 'profile_path': None, 'credit_id': '6420638a5346610113074cda', 'department': 'Camera', 'job': 'Grip'}, {'adult': False, 'gender': 2, 'id': 3352136, 'known_for_department': 'Crew', 'name': 'Darnell Appling', 'original_name': 'Darnell Appling', 'popularity': 0.857, 'profile_path': '/g4unqS1W07uKzoVIaQAEnVyk6W0.jpg', 'credit_id': '664935cc39a681446b78c460', 'department': 'Crew', 'job': \"Actor's Assistant\"}, {'adult': False, 'gender': 0, 'id': 4788508, 'known_for_department': 'Visual Effects', 'name': 'Wakako Sekine', 'original_name': 'Wakako Sekine', 'popularity': 0.001, 'profile_path': None, 'credit_id': '669b9268bda124467969b22c', 'department': 'Visual Effects', 'job': 'Visual Effects'}, {'adult': False, 'gender': 2, 'id': 4844856, 'known_for_department': 'Visual Effects', 'name': 'Olivier Jobin', 'original_name': 'Olivier Jobin', 'popularity': 0.01, 'profile_path': None, 'credit_id': '669f6979fd5d5c9bfedd5251', 'department': 'Visual Effects', 'job': 'Visual Effects Coordinator'}, {'adult': False, 'gender': 2, 'id': 10850, 'known_for_department': 'Production', 'name': 'Kevin Feige', 'original_name': 'Kevin Feige', 'popularity': 9.488, 'profile_path': '/2XZT80gR72to084pEj4f0SCDmDn.jpg', 'credit_id': '5d8e28e38289a0000fcc3342', 'department': 'Production', 'job': 'Producer'}, {'adult': False, 'gender': 1, 'id': 1425616, 'known_for_department': 'Production', 'name': 'Amy Pascal', 'original_name': 'Amy Pascal', 'popularity': 1.82, 'profile_path': '/texxoBV4naFHyuSii6jyxlfuEvK.jpg', 'credit_id': '5d8e333b8289a00029cc4377', 'department': 'Production', 'job': 'Producer'}, {'adult': False, 'gender': 2, 'id': 1293994, 'known_for_department': 'Directing', 'name': 'Jon Watts', 'original_name': 'Jon Watts', 'popularity': 2.582, 'profile_path': '/fkXChMX6CUXY1yOxBehAzvaTCl7.jpg', 'credit_id': '5d8e630d109cd0002941162e', 'department': 'Directing', 'job': 'Director'}, {'adult': False, 'gender': 2, 'id': 7624, 'known_for_department': 'Writing', 'name': 'Stan Lee', 'original_name': 'Stan Lee', 'popularity': 11.84, 'profile_path': '/kKeyWoFtTqOPsbmwylNHmuB3En9.jpg', 'credit_id': '5d8f9a8c66a7c30019897e4b', 'department': 'Writing', 'job': 'Characters'}, {'adult': False, 'gender': 2, 'id': 411385, 'known_for_department': 'Art', 'name': 'Darren Gilford', 'original_name': 'Darren Gilford', 'popularity': 0.043, 'profile_path': '/lMKE5DnHGxlKlArOjqIYUoMyP7F.jpg', 'credit_id': '5eebb0c10f1e580037b53563', 'department': 'Art', 'job': 'Production Design'}, {'adult': False, 'gender': 1, 'id': 7232, 'known_for_department': 'Production', 'name': 'Sarah Halley Finn', 'original_name': 'Sarah Halley Finn', 'popularity': 4.322, 'profile_path': '/jxECVz09YGZAg1AmdzfEkPm4xeY.jpg', 'credit_id': '5eebb0f8db4ed60036cab559', 'department': 'Production', 'job': 'Casting'}, {'adult': False, 'gender': 2, 'id': 1246890, 'known_for_department': 'Writing', 'name': 'Chris McKenna', 'original_name': 'Chris McKenna', 'popularity': 2.922, 'profile_path': '/2yzbdhnpLdJg8NIh4SWqy6wGbZV.jpg', 'credit_id': '5f7133dc1f748b003725c63c', 'department': 'Writing', 'job': 'Writer'}, {'adult': False, 'gender': 2, 'id': 1350918, 'known_for_department': 'Writing', 'name': 'Erik Sommers', 'original_name': 'Erik Sommers', 'popularity': 1.084, 'profile_path': '/fvg1OA7xdYu7z44HdY5IA9lSqYl.jpg', 'credit_id': '5f7133ec3dd1260035658dab', 'department': 'Writing', 'job': 'Writer'}, {'adult': False, 'gender': 2, 'id': 15347, 'known_for_department': 'Sound', 'name': 'Michael Giacchino', 'original_name': 'Michael Giacchino', 'popularity': 2.563, 'profile_path': '/xgurVFMLVgtgz9f5bgrrCppm4xq.jpg', 'credit_id': '5f8c5767ecbde9003972336c', 'department': 'Sound', 'job': 'Original Music Composer'}, {'adult': False, 'gender': 2, 'id': 7625, 'known_for_department': 'Writing', 'name': 'Steve Ditko', 'original_name': 'Steve Ditko', 'popularity': 2.615, 'profile_path': '/sQrhCJxJtI8yqEeCHbdhSUztsHf.jpg', 'credit_id': '5f7f749fd8e15a003be04cdc', 'department': 'Writing', 'job': 'Characters'}, {'adult': False, 'gender': 0, 'id': 1389128, 'known_for_department': 'Art', 'name': 'Nick S. Cross', 'original_name': 'Nick S. Cross', 'popularity': 0.155, 'profile_path': None, 'credit_id': '5fd26e841443f400432ed0a9', 'department': 'Art', 'job': 'Set Designer'}, {'adult': False, 'gender': 0, 'id': 1653682, 'known_for_department': 'Production', 'name': 'Molly Doyle', 'original_name': 'Molly Doyle', 'popularity': 0.036, 'profile_path': None, 'credit_id': '5fda3a4b1d3143003cbed160', 'department': 'Production', 'job': 'Casting Associate'}, {'adult': False, 'gender': 2, 'id': 1081074, 'known_for_department': 'Crew', 'name': 'George Cottle', 'original_name': 'George Cottle', 'popularity': 2.612, 'profile_path': '/hGvlKt3Zm7rpO6I9RXFRWGmZUw0.jpg', 'credit_id': '5fda3a3dcf4b8b00429e6a01', 'department': 'Crew', 'job': 'Stunt Coordinator'}, {'adult': False, 'gender': 0, 'id': 1715691, 'known_for_department': 'Costume & Make-Up', 'name': 'Vasilios Tanis', 'original_name': 'Vasilios Tanis', 'popularity': 0.636, 'profile_path': None, 'credit_id': '5fd0514c1c635b003baddb5b', 'department': 'Costume & Make-Up', 'job': 'Makeup Department Head'}, {'adult': False, 'gender': 2, 'id': 1787802, 'known_for_department': 'Directing', 'name': 'Brian Avery Galligan', 'original_name': 'Brian Avery Galligan', 'popularity': 0.147, 'profile_path': None, 'credit_id': '5fd051d968929c003bc48070', 'department': 'Directing', 'job': 'Second Unit First Assistant Director'}, {'adult': False, 'gender': 2, 'id': 83071, 'known_for_department': 'Directing', 'name': 'David H. Venghaus Jr.', 'original_name': 'David H. Venghaus Jr.', 'popularity': 2.842, 'profile_path': None, 'credit_id': '5fd051e9d7cd0600407cca77', 'department': 'Directing', 'job': 'First Assistant Director'}, {'adult': False, 'gender': 1, 'id': 1408293, 'known_for_department': 'Costume & Make-Up', 'name': 'Linda Flowers', 'original_name': 'Linda Flowers', 'popularity': 0.573, 'profile_path': '/sC9of3RKFQ3RYNQMeX1SbJI0dBe.jpg', 'credit_id': '5fd05142691cd5003d1c4fb7', 'department': 'Costume & Make-Up', 'job': 'Hair Department Head'}, {'adult': False, 'gender': 2, 'id': 2690276, 'known_for_department': 'Production', 'name': 'Steven S. Shapiro', 'original_name': 'Steven S. Shapiro', 'popularity': 0.002, 'profile_path': None, 'credit_id': '5fd05192798c94003fc10c9e', 'department': 'Production', 'job': 'Production Executive'}, {'adult': False, 'gender': 2, 'id': 1081074, 'known_for_department': 'Crew', 'name': 'George Cottle', 'original_name': 'George Cottle', 'popularity': 2.612, 'profile_path': '/hGvlKt3Zm7rpO6I9RXFRWGmZUw0.jpg', 'credit_id': '5fd051ca38e5100041dc1dee', 'department': 'Directing', 'job': 'Second Unit Director'}, {'adult': False, 'gender': 1, 'id': 2887793, 'known_for_department': 'Art', 'name': 'Emmanuelle Hoessly', 'original_name': 'Emmanuelle Hoessly', 'popularity': 0.211, 'profile_path': None, 'credit_id': '5fd11311325a51003c723322', 'department': 'Art', 'job': 'Set Decoration'}, {'adult': False, 'gender': 1, 'id': 13588, 'known_for_department': 'Art', 'name': 'Rosemary Brandenburg', 'original_name': 'Rosemary Brandenburg', 'popularity': 1.315, 'profile_path': '/rrlIjwGSprN47jjXCVIhoIBjKXr.jpg', 'credit_id': '5fd112da0ce1bc0040f16f1f', 'department': 'Art', 'job': 'Set Decoration'}, {'adult': False, 'gender': 2, 'id': 1004624, 'known_for_department': 'Art', 'name': 'Russell Bobbitt', 'original_name': 'Russell Bobbitt', 'popularity': 1.891, 'profile_path': '/5KW97eHDacxWlBkhtyasBUETJcR.jpg', 'credit_id': '5fd125ea1443f400422cfd3f', 'department': 'Art', 'job': 'Property Master'}, {'adult': False, 'gender': 2, 'id': 2057527, 'known_for_department': 'Art', 'name': 'Richard Bennett', 'original_name': 'Richard Bennett', 'popularity': 0.215, 'profile_path': None, 'credit_id': '5fd125d9691cd5003f1d8baa', 'department': 'Art', 'job': 'Storyboard Artist'}, {'adult': False, 'gender': 2, 'id': 2089435, 'known_for_department': 'Art', 'name': 'Andrew Campbell', 'original_name': 'Andrew Campbell', 'popularity': 0.479, 'profile_path': None, 'credit_id': '5fd13e83681888003f582a43', 'department': 'Art', 'job': 'Graphic Designer'}, {'adult': False, 'gender': 0, 'id': 1580851, 'known_for_department': 'Visual Effects', 'name': 'Jan Philip Cramer', 'original_name': 'Jan Philip Cramer', 'popularity': 1.04, 'profile_path': '/p08y3i1cOHTvTegMky102puHWE1.jpg', 'credit_id': '66eeeadc7ff2bf57cd261808', 'department': 'Visual Effects', 'job': 'Head of Animation'}, {'adult': False, 'gender': 1, 'id': 2126917, 'known_for_department': 'Visual Effects', 'name': 'Lilia Collar', 'original_name': 'Lilia Collar', 'popularity': 0.115, 'profile_path': None, 'credit_id': '671ef8252685cb6563c13ce8', 'department': 'Visual Effects', 'job': 'Digital Compositor'}, {'adult': False, 'gender': 0, 'id': 2147614, 'known_for_department': 'Crew', 'name': 'Allison Gainza', 'original_name': 'Allison Gainza', 'popularity': 0.615, 'profile_path': None, 'credit_id': '675c811173e957a01a87c27d', 'department': 'Crew', 'job': 'Special Effects Technician'}, {'adult': False, 'gender': 2, 'id': 1195362, 'known_for_department': 'Art', 'name': 'David E. Scott', 'original_name': 'David E. Scott', 'popularity': 0.286, 'profile_path': None, 'credit_id': '67645024a2326b3304ffd70f', 'department': 'Art', 'job': 'Supervising Art Director'}, {'adult': False, 'gender': 1, 'id': 2568808, 'known_for_department': 'Art', 'name': 'Carla Martinez', 'original_name': 'Carla Martinez', 'popularity': 0.001, 'profile_path': None, 'credit_id': '67795b3bab5ec4c3dc7288df', 'department': 'Art', 'job': 'Assistant Art Director'}, {'adult': False, 'gender': 0, 'id': 2117573, 'known_for_department': 'Visual Effects', 'name': 'Michael Melchiorre', 'original_name': 'Michael Melchiorre', 'popularity': 0.629, 'profile_path': None, 'credit_id': '67950aaaeeb0e2b7012ae562', 'department': 'Visual Effects', 'job': 'Compositing Supervisor'}, {'adult': False, 'gender': 2, 'id': 1546115, 'known_for_department': 'Sound', 'name': 'Willie D. Burton', 'original_name': 'Willie D. Burton', 'popularity': 1.053, 'profile_path': '/scUZhjN7gsFGquUUBFdrVU34t9y.jpg', 'credit_id': '6798e9b25dc8b3b72d2b04f6', 'department': 'Sound', 'job': 'Sound Mixer'}, {'adult': False, 'gender': 0, 'id': 2006453, 'known_for_department': 'Sound', 'name': 'Adam Mohundro', 'original_name': 'Adam Mohundro', 'popularity': 0.001, 'profile_path': None, 'credit_id': '6798ea3f5dc8b3b72d2b0522', 'department': 'Sound', 'job': 'Boom Operator'}, {'adult': False, 'gender': 2, 'id': 15354, 'known_for_department': 'Sound', 'name': 'Stephen M. Davis', 'original_name': 'Stephen M. Davis', 'popularity': 0.04, 'profile_path': None, 'credit_id': '6798ea519a30a85b27243745', 'department': 'Sound', 'job': 'Music Editor'}, {'adult': False, 'gender': 2, 'id': 1393405, 'known_for_department': 'Sound', 'name': 'Robb Boyd', 'original_name': 'Robb Boyd', 'popularity': 0.038, 'profile_path': None, 'credit_id': '6798ea58192115901e8f7817', 'department': 'Sound', 'job': 'Music Editor'}, {'adult': False, 'gender': 2, 'id': 13179, 'known_for_department': 'Sound', 'name': 'Tony Lamberti', 'original_name': 'Tony Lamberti', 'popularity': 1.49, 'profile_path': '/gICSJtipCXdHOoQ7QSBesXDgppg.jpg', 'credit_id': '6798ea663ae355c4788f68d3', 'department': 'Sound', 'job': 'Sound Designer'}, {'adult': False, 'gender': 1, 'id': 1425343, 'known_for_department': 'Sound', 'name': 'Vanessa Lapato', 'original_name': 'Vanessa Lapato', 'popularity': 0.508, 'profile_path': None, 'credit_id': '6798ea7c1be116409c237879', 'department': 'Sound', 'job': 'Supervising Sound Editor'}, {'adult': False, 'gender': 0, 'id': 230505, 'known_for_department': 'Directing', 'name': 'Kera Dacy', 'original_name': 'Kera Dacy', 'popularity': 0.004, 'profile_path': None, 'credit_id': '6798ea8f9a30a85b2724375a', 'department': 'Directing', 'job': 'Script Supervisor'}, {'adult': False, 'gender': 0, 'id': 1718188, 'known_for_department': 'Crew', 'name': 'Fady Hadid', 'original_name': 'Fady Hadid', 'popularity': 0.049, 'profile_path': None, 'credit_id': '6798eac6df4b0191ce2b3014', 'department': 'Crew', 'job': 'Post Production Supervisor'}, {'adult': False, 'gender': 2, 'id': 1399877, 'known_for_department': 'Camera', 'name': 'Peter Rosenfeld', 'original_name': 'Peter Rosenfeld', 'popularity': 0.621, 'profile_path': None, 'credit_id': '6798ead7df4b0191ce2b301d', 'department': 'Camera', 'job': '\"A\" Camera Operator'}, {'adult': False, 'gender': 2, 'id': 371, 'known_for_department': 'Camera', 'name': 'Bill Coe', 'original_name': 'Bill Coe', 'popularity': 0.584, 'profile_path': None, 'credit_id': '6798eae23ae355c4788f6914', 'department': 'Camera', 'job': 'First Assistant \"A\" Camera'}, {'adult': False, 'gender': 0, 'id': 2117185, 'known_for_department': 'Camera', 'name': 'Bobby McMahan', 'original_name': 'Bobby McMahan', 'popularity': 0.281, 'profile_path': None, 'credit_id': '6798eaea0e1e0486d62b7a69', 'department': 'Camera', 'job': 'Second Assistant \"A\" Camera'}, {'adult': False, 'gender': 2, 'id': 930028, 'known_for_department': 'Camera', 'name': 'Christopher Duskin', 'original_name': 'Christopher Duskin', 'popularity': 0.666, 'profile_path': None, 'credit_id': '6798eaf5df4b0191ce2b302e', 'department': 'Camera', 'job': '\"B\" Camera Operator'}, {'adult': False, 'gender': 0, 'id': 1761280, 'known_for_department': 'Camera', 'name': 'Andy Hoehn', 'original_name': 'Andy Hoehn', 'popularity': 0.008, 'profile_path': None, 'credit_id': '6798eb0e702f492f478f84e7', 'department': 'Camera', 'job': 'First Assistant \"B\" Camera'}, {'adult': False, 'gender': 0, 'id': 3056844, 'known_for_department': 'Camera', 'name': 'Paul E. Woods', 'original_name': 'Paul E. Woods', 'popularity': 0.001, 'profile_path': None, 'credit_id': '6798eb16df4b0191ce2b3049', 'department': 'Camera', 'job': 'Second Assistant \"B\" Camera'}, {'adult': False, 'gender': 2, 'id': 2719968, 'known_for_department': 'Camera', 'name': 'Daniel A Hernandez', 'original_name': 'Daniel A Hernandez', 'popularity': 0.001, 'profile_path': None, 'credit_id': '6798eb4d9a30a85b2724379b', 'department': 'Camera', 'job': 'Digital Imaging Technician'}, {'adult': False, 'gender': 1, 'id': 2091352, 'known_for_department': 'Camera', 'name': 'Nastasia Humphries', 'original_name': 'Nastasia Humphries', 'popularity': 0.015, 'profile_path': None, 'credit_id': '6798ebfa702f492f478f8580', 'department': 'Camera', 'job': 'Camera Loader'}, {'adult': False, 'gender': 0, 'id': 1338482, 'known_for_department': 'Sound', 'name': 'Chris Diebold', 'original_name': 'Chris Diebold', 'popularity': 0.112, 'profile_path': None, 'credit_id': '6798ec0c5dc8b3b72d2b055b', 'department': 'Sound', 'job': 'Sound Designer'}, {'adult': False, 'gender': 2, 'id': 113081, 'known_for_department': 'Sound', 'name': 'Chris M. Jacobson', 'original_name': 'Chris M. Jacobson', 'popularity': 0.014, 'profile_path': None, 'credit_id': '6798ec63e1d5a9c6e08f186f', 'department': 'Sound', 'job': 'Sound Effects Editor'}, {'adult': False, 'gender': 2, 'id': 1688609, 'known_for_department': 'Sound', 'name': 'Ryan Juggler', 'original_name': 'Ryan Juggler', 'popularity': 0.276, 'profile_path': None, 'credit_id': '6798ec77192115901e8f78b2', 'department': 'Sound', 'job': 'Assistant Sound Editor'}, {'adult': False, 'gender': 0, 'id': 2932046, 'known_for_department': 'Sound', 'name': 'Jessica Arkoff', 'original_name': 'Jessica Arkoff', 'popularity': 0.001, 'profile_path': None, 'credit_id': '6798ec7edf4b0191ce2b30f7', 'department': 'Sound', 'job': 'Dialogue Editor'}, {'adult': False, 'gender': 2, 'id': 1399057, 'known_for_department': 'Sound', 'name': 'Jim Brookshire', 'original_name': 'Jim Brookshire', 'popularity': 0.07, 'profile_path': None, 'credit_id': '6798ec845dc8b3b72d2b058c', 'department': 'Sound', 'job': 'Dialogue Editor'}, {'adult': False, 'gender': 1, 'id': 1927046, 'known_for_department': 'Sound', 'name': 'Jessica Parks', 'original_name': 'Jessica Parks', 'popularity': 0.001, 'profile_path': None, 'credit_id': '6798ecac0e1e0486d62b7ad8', 'department': 'Sound', 'job': 'Foley Supervisor'}, {'adult': False, 'gender': 2, 'id': 2842948, 'known_for_department': 'Sound', 'name': 'Samuel Nacach', 'original_name': 'Samuel Nacach', 'popularity': 0.035, 'profile_path': None, 'credit_id': '6798ece75dc8b3b72d2b05c5', 'department': 'Sound', 'job': 'Foley Editor'}, {'adult': False, 'gender': 2, 'id': 1412456, 'known_for_department': 'Sound', 'name': 'Adam DeCoster', 'original_name': 'Adam DeCoster', 'popularity': 0.108, 'profile_path': None, 'credit_id': '6798ecfac7b01b72c7244543', 'department': 'Sound', 'job': 'Foley Artist'}, {'adult': False, 'gender': 2, 'id': 1274309, 'known_for_department': 'Sound', 'name': 'Randy K. Singer', 'original_name': 'Randy K. Singer', 'popularity': 1.268, 'profile_path': None, 'credit_id': '6798ed040e1e0486d62b7af0', 'department': 'Sound', 'job': 'Foley Mixer'}, {'adult': False, 'gender': 1, 'id': 1202779, 'known_for_department': 'Costume & Make-Up', 'name': 'Irena Stepić', 'original_name': 'Irena Stepić', 'popularity': 0.872, 'profile_path': '/acN2okse9a9VjeZxOhBhPKVqHZ2.jpg', 'credit_id': '6798ed0de1d5a9c6e08f18c8', 'department': 'Costume & Make-Up', 'job': 'Assistant Costume Designer'}, {'adult': False, 'gender': 0, 'id': 1553785, 'known_for_department': 'Costume & Make-Up', 'name': 'Margaret Robbs', 'original_name': 'Margaret Robbs', 'popularity': 0.088, 'profile_path': None, 'credit_id': '6798ed15e1d5a9c6e08f18ce', 'department': 'Costume & Make-Up', 'job': 'Assistant Costume Designer'}, {'adult': False, 'gender': 1, 'id': 1190255, 'known_for_department': 'Costume & Make-Up', 'name': 'Deborah Zimmerman', 'original_name': 'Deborah Zimmerman', 'popularity': 0.148, 'profile_path': None, 'credit_id': '6798ed48c7b01b72c7244568', 'department': 'Costume & Make-Up', 'job': 'Key Costumer'}, {'adult': False, 'gender': 0, 'id': 1760534, 'known_for_department': 'Camera', 'name': 'Charles Crivier', 'original_name': 'Charles Crivier', 'popularity': 0.181, 'profile_path': None, 'credit_id': '67a8de6ef5aaa6afa9e094c8', 'department': 'Camera', 'job': 'Key Grip'}]}}\n"
     ]
    },
    {
     "data": {
      "text/plain": [
       "['https://image.tmdb.org/t/p/originalhttps://encrypted-tbn0.gstatic.com/images?q=tbn:ANd9GcTFXT94RTDPEqHrcC1pVOjBpVUMzQ4dZ3QgOfJWQp2aLSOxEgQGQmu_jsgXu1czdhE1tzo&usqp=CAU',\n",
       " 'https://image.tmdb.org/t/p/originalhttps://encrypted-tbn0.gstatic.com/images?q=tbn:ANd9GcTFXT94RTDPEqHrcC1pVOjBpVUMzQ4dZ3QgOfJWQp2aLSOxEgQGQmu_jsgXu1czdhE1tzo&usqp=CAU',\n",
       " 'https://image.tmdb.org/t/p/originalhttps://encrypted-tbn0.gstatic.com/images?q=tbn:ANd9GcTFXT94RTDPEqHrcC1pVOjBpVUMzQ4dZ3QgOfJWQp2aLSOxEgQGQmu_jsgXu1czdhE1tzo&usqp=CAU',\n",
       " 'https://image.tmdb.org/t/p/originalhttps://encrypted-tbn0.gstatic.com/images?q=tbn:ANd9GcTFXT94RTDPEqHrcC1pVOjBpVUMzQ4dZ3QgOfJWQp2aLSOxEgQGQmu_jsgXu1czdhE1tzo&usqp=CAU',\n",
       " 'https://image.tmdb.org/t/p/originalhttps://encrypted-tbn0.gstatic.com/images?q=tbn:ANd9GcTFXT94RTDPEqHrcC1pVOjBpVUMzQ4dZ3QgOfJWQp2aLSOxEgQGQmu_jsgXu1czdhE1tzo&usqp=CAU',\n",
       " 'https://image.tmdb.org/t/p/originalhttps://encrypted-tbn0.gstatic.com/images?q=tbn:ANd9GcTFXT94RTDPEqHrcC1pVOjBpVUMzQ4dZ3QgOfJWQp2aLSOxEgQGQmu_jsgXu1czdhE1tzo&usqp=CAU',\n",
       " 'https://image.tmdb.org/t/p/originalhttps://encrypted-tbn0.gstatic.com/images?q=tbn:ANd9GcTFXT94RTDPEqHrcC1pVOjBpVUMzQ4dZ3QgOfJWQp2aLSOxEgQGQmu_jsgXu1czdhE1tzo&usqp=CAU',\n",
       " 'https://image.tmdb.org/t/p/originalhttps://encrypted-tbn0.gstatic.com/images?q=tbn:ANd9GcTFXT94RTDPEqHrcC1pVOjBpVUMzQ4dZ3QgOfJWQp2aLSOxEgQGQmu_jsgXu1czdhE1tzo&usqp=CAU',\n",
       " 'https://image.tmdb.org/t/p/originalhttps://encrypted-tbn0.gstatic.com/images?q=tbn:ANd9GcTFXT94RTDPEqHrcC1pVOjBpVUMzQ4dZ3QgOfJWQp2aLSOxEgQGQmu_jsgXu1czdhE1tzo&usqp=CAU',\n",
       " 'https://image.tmdb.org/t/p/originalhttps://encrypted-tbn0.gstatic.com/images?q=tbn:ANd9GcTFXT94RTDPEqHrcC1pVOjBpVUMzQ4dZ3QgOfJWQp2aLSOxEgQGQmu_jsgXu1czdhE1tzo&usqp=CAU']"
      ]
     },
     "execution_count": 44,
     "metadata": {},
     "output_type": "execute_result"
    }
   ],
   "source": [
    "get_castcrew('634649')"
   ]
  },
  {
   "cell_type": "code",
   "execution_count": 97,
   "id": "2b7915b7",
   "metadata": {},
   "outputs": [],
   "source": [
    "API_KEY='75d6f4d358afd80023fc135735da8af5'\n"
   ]
  },
  {
   "cell_type": "code",
   "execution_count": 45,
   "id": "e8b8189f",
   "metadata": {},
   "outputs": [],
   "source": [
    "def get_reviews(movie_id):\n",
    "    reviews = []\n",
    "    details_url = f'https://api.themoviedb.org/3/movie/{movie_id}/reviews?api_key={API_KEY}'\n",
    "    details_response = requests.get(details_url)\n",
    "    details_data = details_response.json()       \n",
    "    num_reviews = min(6, len(details_data['results']))\n",
    "    print(num_reviews) \n",
    "    for i in range(num_reviews):\n",
    "        reviews.append(details_data['results'][i]['content'])\n",
    "    if len(reviews)==0:\n",
    "        return 'No reviews Found'\n",
    "    \n",
    "    rev = np.array(reviews)\n",
    "    n = vectorizer.transform(rev)\n",
    "    sent = sentiment.predict(n)\n",
    "    new_sent = sent.tolist()\n",
    "        \n",
    "    for i in range(len(new_sent)):\n",
    "        if new_sent[i] == 0:\n",
    "            new_sent[i] = 'Negative'\n",
    "        else:\n",
    "            new_sent[i] = 'Positive'\n",
    "                \n",
    "    return reviews, new_sent\n",
    "    "
   ]
  },
  {
   "cell_type": "code",
   "execution_count": 72,
   "id": "62b84b85",
   "metadata": {},
   "outputs": [
    {
     "name": "stdout",
     "output_type": "stream",
     "text": [
      "6\n"
     ]
    },
    {
     "data": {
      "text/plain": [
       "([\"Sam Raimi's Spider-Man captures the spirit of the comic book hero and it's still one of my all time favourite superhero movies. It lays out the perfect blueprint for a superhero origin story that I love revisiting every year or so. I've always been able to relate to Peter Parker growing up. Tobey Maguire and Co. delivered a great interpretation of the characters in a way that still can not be matched.\",\n",
       "  'So many Spiderman movies out there but this will always be the original. Though the other ones have better CGI and maybe action sequences, none can match the plot this one has.',\n",
       "  \"This is one of the few films that you can watch when you're bored and still be excited about what's going to happen (even though you've watched it over and over already and you've memorized almost all of the lines).\",\n",
       "  'I keep telling people that this is the real Spider-Man and I will always stand by that. Tobey Maguire the real MVP!',\n",
       "  'Films from the 2000s really are way different from the ones we have now. I wish all origin stories could be as good as this one.',\n",
       "  'You can take your Tom Holland and Andrew Garfield with you. Tobey Maguire is the best Spider-Man of all time and no amount of CGI can change that!'],\n",
       " ['Positive', 'Positive', 'Positive', 'Positive', 'Positive', 'Positive'])"
      ]
     },
     "execution_count": 72,
     "metadata": {},
     "output_type": "execute_result"
    }
   ],
   "source": [
    "get_reviews(557)"
   ]
  },
  {
   "cell_type": "code",
   "execution_count": 73,
   "id": "1f3503cc",
   "metadata": {},
   "outputs": [],
   "source": [
    "def fetch_poster(movie_id):\n",
    "    response= requests.get('https://api.themoviedb.org/3/movie/{}?api_key=75d6f4d358afd80023fc135735da8af5&language=en-US'.format(movie_id))\n",
    "    data = response.json()\n",
    "    try:\n",
    "        path = 'https://image.tmdb.org/t/p/w500'+data['poster_path']\n",
    "        return path\n",
    "    except:\n",
    "        pth = 'https://img.pikbest.com/backgrounds/20200428/film-and-television-festival-retro-film-poster_2824252.jpg!f305cw'\n",
    "        return pth"
   ]
  },
  {
   "cell_type": "code",
   "execution_count": 74,
   "id": "52203b26",
   "metadata": {},
   "outputs": [],
   "source": [
    "def get_trailer(movie_id):\n",
    "    response = requests.get('http://api.themoviedb.org/3/movie/{}?api_key=75d6f4d358afd80023fc135735da8af5&append_to_response=videos'.format(movie_id))\n",
    "    data = response.json()\n",
    "    try:\n",
    "        key = data['videos']['results']\n",
    "        return key\n",
    "    except:\n",
    "        data['videos']['results'] = 'https://images.wondershare.com/recoverit/article/2020/03/Video_unavailable_Img_1.jpg'\n",
    "        return data['videos']['results']\n"
   ]
  },
  {
   "cell_type": "code",
   "execution_count": 75,
   "id": "5aecd429",
   "metadata": {},
   "outputs": [],
   "source": [
    "def recommend(movie):\n",
    "    movie_index = new_df[new_df['title']==movie].index[0]\n",
    "    distances = similarity[movie_index]\n",
    "    movie_list = sorted(list(enumerate(distances)),reverse=True,key = lambda x:x[1])[1:12]\n",
    "    titles= []\n",
    "    ip_id = (df.loc[df['title']==movie]).to_string(header=False,index=False,columns=['id'])\n",
    "    posters =[fetch_poster(ip_id)]\n",
    "    trailer  = get_trailer(ip_id)\n",
    "    details = get_movie_details(movie)\n",
    "    creds = get_castcrew(ip_id)\n",
    "    reviews = get_reviews(ip_id)\n",
    "    ratings= [get_movie_details(movie)[3]]\n",
    "\n",
    "    for i in movie_list:\n",
    "        title = new_df.iloc[i[0]].title\n",
    "        movie_id = df.iloc[i[0]].id\n",
    "        titles.append(title)\n",
    "        posters.append(fetch_poster(movie_id))\n",
    "        \n",
    "    print(titles,posters,details,trailer,creds,reviews,ratings)\n",
    "    return titles\n",
    "\n"
   ]
  },
  {
   "cell_type": "code",
   "execution_count": 76,
   "id": "7cdf7478",
   "metadata": {},
   "outputs": [
    {
     "name": "stdout",
     "output_type": "stream",
     "text": [
      "Family, Adventure, Comedy, Science Fiction, Crime\n",
      "6.3\n",
      "{'adult': False, 'backdrop_path': '/nOWOU0bdX76iF9XA1YPlInLbI4Y.jpg', 'belongs_to_collection': None, 'budget': 1377800, 'genres': [{'id': 28, 'name': 'Action'}, {'id': 35, 'name': 'Comedy'}, {'id': 80, 'name': 'Crime'}], 'homepage': '', 'id': 2661, 'imdb_id': 'tt0060153', 'origin_country': ['US'], 'original_language': 'en', 'original_title': 'Batman', 'overview': 'The Dynamic Duo faces four super-villains who plan to hold the world for ransom with the help of a secret invention that instantly dehydrates people.', 'popularity': 14.601, 'poster_path': '/zzoPxWHnPa0eyfkMLgwbNvdEcVF.jpg', 'production_companies': [{'id': 1188, 'logo_path': None, 'name': 'William Dozier Productions', 'origin_country': ''}, {'id': 25, 'logo_path': '/qZCc1lty5FzX30aOCVRBLzaVmcp.png', 'name': '20th Century Fox', 'origin_country': 'US'}, {'id': 1189, 'logo_path': None, 'name': 'Greenlawn Productions', 'origin_country': ''}], 'production_countries': [{'iso_3166_1': 'US', 'name': 'United States of America'}], 'release_date': '1966-07-30', 'revenue': 3900000, 'runtime': 105, 'spoken_languages': [{'english_name': 'English', 'iso_639_1': 'en', 'name': 'English'}], 'status': 'Released', 'tagline': \"He's Here Big As Life In A Real Bat-Epic\", 'title': 'Batman', 'video': False, 'vote_average': 6.4, 'vote_count': 966, 'credits': {'cast': [{'adult': False, 'gender': 2, 'id': 26847, 'known_for_department': 'Acting', 'name': 'Adam West', 'original_name': 'Adam West', 'popularity': 6.037, 'profile_path': '/a3Yw8bb6AF7a8Zr7IyEZhZxWVWN.jpg', 'cast_id': 17, 'character': 'Batman (Bruce Wayne)', 'credit_id': '52fe4363c3a36847f80509cf', 'order': 0}, {'adult': False, 'gender': 2, 'id': 35192, 'known_for_department': 'Acting', 'name': 'Burt Ward', 'original_name': 'Burt Ward', 'popularity': 2.162, 'profile_path': '/13qUIbdB6D6BaTy3znHoHWdHuYN.jpg', 'cast_id': 20, 'character': 'Robin (Dick Grayson)', 'credit_id': '52fe4363c3a36847f80509d3', 'order': 1}, {'adult': False, 'gender': 1, 'id': 16108, 'known_for_department': 'Acting', 'name': 'Lee Meriwether', 'original_name': 'Lee Meriwether', 'popularity': 4.292, 'profile_path': '/nGoYFvJFqs7jXCKwVArUzhlLFTF.jpg', 'cast_id': 13, 'character': 'The Catwoman (Kitka)', 'credit_id': '52fe4363c3a36847f80509bf', 'order': 2}, {'adult': False, 'gender': 2, 'id': 4355, 'known_for_department': 'Acting', 'name': 'Cesar Romero', 'original_name': 'Cesar Romero', 'popularity': 8.438, 'profile_path': '/1UMk0r2rcMSpglnxd2QJMVgqZtI.jpg', 'cast_id': 1, 'character': 'The Joker', 'credit_id': '52fe4363c3a36847f805097d', 'order': 3}, {'adult': False, 'gender': 2, 'id': 16523, 'known_for_department': 'Acting', 'name': 'Burgess Meredith', 'original_name': 'Burgess Meredith', 'popularity': 7.339, 'profile_path': '/2ozNyIbHChcqIBANwvCDpUZGA9b.jpg', 'cast_id': 11, 'character': 'The Penguin', 'credit_id': '52fe4363c3a36847f80509b7', 'order': 4}, {'adult': False, 'gender': 2, 'id': 291, 'known_for_department': 'Acting', 'name': 'Frank Gorshin', 'original_name': 'Frank Gorshin', 'popularity': 3.367, 'profile_path': '/lGRDnt0HlOI3BGOLD5mFUwNi6QI.jpg', 'cast_id': 12, 'character': 'The Riddler', 'credit_id': '52fe4363c3a36847f80509bb', 'order': 5}, {'adult': False, 'gender': 2, 'id': 6933, 'known_for_department': 'Acting', 'name': 'Alan Napier', 'original_name': 'Alan Napier', 'popularity': 4.886, 'profile_path': '/90TwBLqH94JqWeVBXqkkYR2wsp2.jpg', 'cast_id': 15, 'character': 'Alfred', 'credit_id': '52fe4363c3a36847f80509c7', 'order': 6}, {'adult': False, 'gender': 2, 'id': 27733, 'known_for_department': 'Acting', 'name': 'Neil Hamilton', 'original_name': 'Neil Hamilton', 'popularity': 5.625, 'profile_path': '/23jm1XwaaBKWTp5fKs7kzThK4KZ.jpg', 'cast_id': 14, 'character': 'Commissioner Gordon', 'credit_id': '52fe4363c3a36847f80509c3', 'order': 7}, {'adult': False, 'gender': 2, 'id': 27734, 'known_for_department': 'Acting', 'name': 'Stafford Repp', 'original_name': 'Stafford Repp', 'popularity': 4.086, 'profile_path': '/8H43DClHBJWSiS4xFT6vxBIroMT.jpg', 'cast_id': 16, 'character': \"Chief O'Hara\", 'credit_id': '52fe4363c3a36847f80509cb', 'order': 8}, {'adult': False, 'gender': 1, 'id': 43824, 'known_for_department': 'Acting', 'name': 'Madge Blake', 'original_name': 'Madge Blake', 'popularity': 4.344, 'profile_path': '/c53nYlnXJXOLng6Xi5AZ5L1IXz7.jpg', 'cast_id': 21, 'character': 'Aunt Harriet Cooper', 'credit_id': '54f5785b9251412ba9001148', 'order': 9}, {'adult': False, 'gender': 2, 'id': 3364, 'known_for_department': 'Acting', 'name': 'Reginald Denny', 'original_name': 'Reginald Denny', 'popularity': 1.504, 'profile_path': '/wbR5zRDwZpDqDwuoW5hSQbIptHW.jpg', 'cast_id': 22, 'character': 'Commodore Schmidlapp', 'credit_id': '54f579479251412ba7001129', 'order': 10}, {'adult': False, 'gender': 2, 'id': 78776, 'known_for_department': 'Acting', 'name': 'Milton Frome', 'original_name': 'Milton Frome', 'popularity': 2.085, 'profile_path': '/yKw0I3H5Fip2WM2LYQ8zS9aA4eR.jpg', 'cast_id': 23, 'character': 'Vice Admiral Fangschliester', 'credit_id': '54f57a00c3a3683500001318', 'order': 11}, {'adult': False, 'gender': 2, 'id': 1214919, 'known_for_department': 'Acting', 'name': 'Gil Perkins', 'original_name': 'Gil Perkins', 'popularity': 1.57, 'profile_path': None, 'cast_id': 24, 'character': 'Bluebeard', 'credit_id': '54f57c0f9251412ba700124c', 'order': 12}, {'adult': False, 'gender': 2, 'id': 14256, 'known_for_department': 'Acting', 'name': 'Dick Crockett', 'original_name': 'Dick Crockett', 'popularity': 1.214, 'profile_path': None, 'cast_id': 25, 'character': 'Morgan', 'credit_id': '54f57e6ec3a36834fd0013d7', 'order': 13}, {'adult': False, 'gender': 2, 'id': 100799, 'known_for_department': 'Acting', 'name': 'George Sawaya', 'original_name': 'George Sawaya', 'popularity': 1.484, 'profile_path': None, 'cast_id': 26, 'character': 'Quetch', 'credit_id': '54f580da9251412bac0014ae', 'order': 14}, {'adult': False, 'gender': 2, 'id': 55700, 'known_for_department': 'Acting', 'name': 'Robert Adler', 'original_name': 'Robert Adler', 'popularity': 2.201, 'profile_path': '/w9ppKkrjl2t65WeW0CPbQ1dDbjP.jpg', 'cast_id': 31, 'character': 'Guard (uncredited)', 'credit_id': '5b6685410e0a267eed0968b6', 'order': 15}, {'adult': False, 'gender': 2, 'id': 1421073, 'known_for_department': 'Acting', 'name': 'Leon Alton', 'original_name': 'Leon Alton', 'popularity': 0.357, 'profile_path': None, 'cast_id': 32, 'character': 'Official (uncredited)', 'credit_id': '5b66857ac3a36818940a801e', 'order': 16}, {'adult': False, 'gender': 2, 'id': 1624216, 'known_for_department': 'Acting', 'name': 'Al Bain', 'original_name': 'Al Bain', 'popularity': 1.084, 'profile_path': '/b1NEZYDDbGgNjhm9SrrLkRrAKLO.jpg', 'cast_id': 33, 'character': 'Waiter (uncredited)', 'credit_id': '5b6685bb0e0a267eed096974', 'order': 17}, {'adult': False, 'gender': 2, 'id': 16527, 'known_for_department': 'Acting', 'name': 'Bill Baldwin', 'original_name': 'Bill Baldwin', 'popularity': 2.519, 'profile_path': '/lxPg2ucKAdQJ2L3jT0Ob3E6kvS0.jpg', 'cast_id': 34, 'character': 'Picnicking Man (uncredited)', 'credit_id': '5b66863dc3a368188808ef1a', 'order': 18}, {'adult': False, 'gender': 2, 'id': 104601, 'known_for_department': 'Acting', 'name': 'Vincent Barbi', 'original_name': 'Vincent Barbi', 'popularity': 1.539, 'profile_path': '/x1AuUURPoELlihBXtfOMN3wGxmu.jpg', 'cast_id': 35, 'character': 'Picnicking Man (uncredited)', 'credit_id': '5b66866f92514140640897d4', 'order': 19}, {'adult': False, 'gender': 2, 'id': 153470, 'known_for_department': 'Acting', 'name': 'Wolfe Barzell', 'original_name': 'Wolfe Barzell', 'popularity': 0.564, 'profile_path': '/hDBisHWEZu1j1bTmgvpJHAtQRYl.jpg', 'cast_id': 36, 'character': 'Israeli Delegate (uncredited)', 'credit_id': '5b6686d3c3a36818940a82bf', 'order': 20}, {'adult': False, 'gender': 2, 'id': 2100015, 'known_for_department': 'Acting', 'name': 'Jack Berle', 'original_name': 'Jack Berle', 'popularity': 0.309, 'profile_path': '/408Rd4cgCYzhv2X3gSi3Xls9nkH.jpg', 'cast_id': 37, 'character': 'Official (uncredited)', 'credit_id': '5b668745c3a368188f090396', 'order': 21}, {'adult': False, 'gender': 1, 'id': 2100016, 'known_for_department': 'Acting', 'name': 'Shelly Bruce', 'original_name': 'Shelly Bruce', 'popularity': 0.001, 'profile_path': None, 'cast_id': 38, 'character': 'Beer Throwing Girl (uncredited)', 'credit_id': '5b668776c3a368537500a78e', 'order': 22}, {'adult': False, 'gender': 1, 'id': 2100304, 'known_for_department': 'Acting', 'name': 'Linda Carpenter', 'original_name': 'Linda Carpenter', 'popularity': 0.354, 'profile_path': '/zVwlaHidoOJJjtU71smDcYvtI4g.jpg', 'cast_id': 101, 'character': 'WAVE (uncredited)', 'credit_id': '5b67299a92514140680a04e4', 'order': 23}, {'adult': False, 'gender': 2, 'id': 153686, 'known_for_department': 'Acting', 'name': 'Albert Carrier', 'original_name': 'Albert Carrier', 'popularity': 1.68, 'profile_path': '/9lKc60OmnQpVdtEl40wps1Z4GYP.jpg', 'cast_id': 40, 'character': 'French Delegate (uncredited)', 'credit_id': '5b6687cf92514140640899a6', 'order': 24}, {'adult': False, 'gender': 1, 'id': 1240825, 'known_for_department': 'Acting', 'name': 'Arlene Charles', 'original_name': 'Arlene Charles', 'popularity': 0.563, 'profile_path': '/tA36G43xZC2zENmY0Od5GxURJ1F.jpg', 'cast_id': 41, 'character': 'Bikini Girl (uncredited)', 'credit_id': '5b6687f2925141404f07d8d0', 'order': 25}, {'adult': False, 'gender': 2, 'id': 153387, 'known_for_department': 'Acting', 'name': 'George Cisar', 'original_name': 'George Cisar', 'popularity': 1.063, 'profile_path': '/o7J4l7p4XBzqjaYtY1amnVm33uf.jpg', 'cast_id': 42, 'character': 'Rumpot in Window (uncredited)', 'credit_id': '5b6688dd0e0a267ef40903c5', 'order': 26}, {'adult': False, 'gender': 2, 'id': 128607, 'known_for_department': 'Acting', 'name': 'Maurice Dallimore', 'original_name': 'Maurice Dallimore', 'popularity': 0.92, 'profile_path': '/hTWhDunRiAxoNTnmq0j0YoznGdE.jpg', 'cast_id': 43, 'character': 'United Kingdom Delegate (uncredited)', 'credit_id': '5b6689240e0a267ef608c48f', 'order': 27}, {'adult': False, 'gender': 1, 'id': 182497, 'known_for_department': 'Acting', 'name': 'Nancy DeCarl', 'original_name': 'Nancy DeCarl', 'popularity': 1.52, 'profile_path': '/sY4orsyvt3mVRIARGfEmgHSSBkE.jpg', 'cast_id': 44, 'character': 'Teen Girl (uncredited)', 'credit_id': '5b6689f30e0a267ef109042d', 'order': 28}, {'adult': False, 'gender': 2, 'id': 159539, 'known_for_department': 'Acting', 'name': 'Jay Della', 'original_name': 'Jay Della', 'popularity': 0.575, 'profile_path': None, 'cast_id': 45, 'character': 'Controller (uncredited)', 'credit_id': '5b668a130e0a267eed0970fa', 'order': 29}, {'adult': False, 'gender': 2, 'id': 227974, 'known_for_department': 'Acting', 'name': 'George DeNormand', 'original_name': 'George DeNormand', 'popularity': 1.667, 'profile_path': None, 'cast_id': 46, 'character': 'Cop (uncredited)', 'credit_id': '5b668a2bc3a3681899082515', 'order': 30}, {'adult': False, 'gender': 2, 'id': 14355, 'known_for_department': 'Production', 'name': 'William Dozier', 'original_name': 'William Dozier', 'popularity': 0.578, 'profile_path': '/81nnUI5ZF5qv3hQOZc09a1XH0MM.jpg', 'cast_id': 47, 'character': 'Narrator / Bat-Computer (voice) (uncredited)', 'credit_id': '5b668a4f92514168b60134ff', 'order': 31}, {'adult': False, 'gender': 2, 'id': 198209, 'known_for_department': 'Acting', 'name': 'Bill Dyer', 'original_name': 'Bill Dyer', 'popularity': 0.006, 'profile_path': None, 'cast_id': 48, 'character': 'Reporter (uncredited)', 'credit_id': '5b668a830e0a267ef1090522', 'order': 32}, {'adult': False, 'gender': 2, 'id': 2040284, 'known_for_department': 'Acting', 'name': 'Daniel Elam', 'original_name': 'Daniel Elam', 'popularity': 0.377, 'profile_path': None, 'cast_id': 49, 'character': 'Official (uncredited)', 'credit_id': '5b668aa99251414064089dd5', 'order': 33}, {'adult': False, 'gender': 2, 'id': 1190650, 'known_for_department': 'Acting', 'name': 'Louie Elias', 'original_name': 'Louie Elias', 'popularity': 1.175, 'profile_path': '/tpSqJ1rUde9WY4qMQHxWukdizxT.jpg', 'cast_id': 50, 'character': 'Tavern Patron (uncredited)', 'credit_id': '5b668ad80e0a267ef608c778', 'order': 34}, {'adult': False, 'gender': 2, 'id': 160595, 'known_for_department': 'Acting', 'name': 'Peter Forster', 'original_name': 'Peter Forster', 'popularity': 0.847, 'profile_path': '/lXSppMqtkh70SLQGoVx3edfV85q.jpg', 'cast_id': 51, 'character': 'Mr. Percy (uncredited)', 'credit_id': '5b668b11c3a36818860a9311', 'order': 35}, {'adult': False, 'gender': 2, 'id': 19551, 'known_for_department': 'Acting', 'name': 'Gregory Gaye', 'original_name': 'Gregory Gaye', 'popularity': 1.137, 'profile_path': '/wJ6IzGvnmahSKDcT1TcMC1WhgL7.jpg', 'cast_id': 52, 'character': 'Soviet Delegate (uncredited)', 'credit_id': '5b668b33925141404f07dd20', 'order': 36}, {'adult': False, 'gender': 2, 'id': 196377, 'known_for_department': 'Acting', 'name': 'Robert Goodwin', 'original_name': 'Robert Goodwin', 'popularity': 0.076, 'profile_path': '/q35TUDkIQVzgLAK2vlRZl983YTs.jpg', 'cast_id': 102, 'character': 'Nigerian Delegate (uncredited)', 'credit_id': '5b6733a892514168b602bcd6', 'order': 37}, {'adult': False, 'gender': 1, 'id': 165166, 'known_for_department': 'Acting', 'name': 'Annette Gorman', 'original_name': 'Annette Gorman', 'popularity': 1.638, 'profile_path': '/t2fCwOrVrSj6AZ0awlCTscHJmqR.jpg', 'cast_id': 54, 'character': 'Teen Girl (uncredited)', 'credit_id': '5b668badc3a368537500ada7', 'order': 38}, {'adult': False, 'gender': 2, 'id': 2659, 'known_for_department': 'Acting', 'name': 'Sol Gorss', 'original_name': 'Sol Gorss', 'popularity': 1.47, 'profile_path': None, 'cast_id': 55, 'character': 'Guard (uncredited)', 'credit_id': '5b668bd40e0a267ee7093ff3', 'order': 39}, {'adult': False, 'gender': 1, 'id': 160728, 'known_for_department': 'Acting', 'name': 'Julie Gregg', 'original_name': 'Julie Gregg', 'popularity': 3.472, 'profile_path': '/8Kx71BnZNtpzb86jH7fcArWhJBh.jpg', 'cast_id': 56, 'character': 'Nightclub Singer (uncredited)', 'credit_id': '5b668be60e0a267ef40908cf', 'order': 40}, {'adult': False, 'gender': 1, 'id': 1213208, 'known_for_department': 'Acting', 'name': 'Elizabeth Harrower', 'original_name': 'Elizabeth Harrower', 'popularity': 0.171, 'profile_path': '/1vy8rEFvr9Szp3kfLaismBSDggR.jpg', 'cast_id': 57, 'character': 'Picnicking Woman (uncredited)', 'credit_id': '5b668c1e9251414054084e51', 'order': 41}, {'adult': False, 'gender': 2, 'id': 151663, 'known_for_department': 'Crew', 'name': 'Eddie Hice', 'original_name': 'Eddie Hice', 'popularity': 0.412, 'profile_path': '/flL90ZTRxCHSJ6ADSD899n4vtpO.jpg', 'cast_id': 59, 'character': 'Guinea Pig #1 (uncredited)', 'credit_id': '5b66938f92514168b601474d', 'order': 42}, {'adult': False, 'gender': 2, 'id': 120795, 'known_for_department': 'Acting', 'name': 'George Holmes', 'original_name': 'George Holmes', 'popularity': 0.428, 'profile_path': '/nnPstoN0LQtgdLXvAhezSCvs3pc.jpg', 'cast_id': 60, 'character': 'Club Patron (uncredited)', 'credit_id': '5b6693a40e0a267ee7094c9d', 'order': 43}, {'adult': False, 'gender': 1, 'id': 1833057, 'known_for_department': 'Acting', 'name': 'Marylou Kenworthy', 'original_name': 'Marylou Kenworthy', 'popularity': 0.115, 'profile_path': '/aTDZGGIXB3svjgloND8dv3d81fN.jpg', 'cast_id': 61, 'character': 'Teen Girl (uncredited)', 'credit_id': '5b6693c00e0a267ef809375f', 'order': 44}, {'adult': False, 'gender': 1, 'id': 91214, 'known_for_department': 'Acting', 'name': 'Lyzanne La Due', 'original_name': 'Lyzanne La Due', 'popularity': 0.01, 'profile_path': '/5AxWcNiQzXE74BEHIiVzh4eftZv.jpg', 'cast_id': 62, 'character': 'Kissing Girl (uncredited)', 'credit_id': '5b6693eb925141216801d234', 'order': 45}, {'adult': False, 'gender': 2, 'id': 102933, 'known_for_department': 'Acting', 'name': 'Jack LaLanne', 'original_name': 'Jack LaLanne', 'popularity': 0.343, 'profile_path': '/7AQCSDZKfETPPryMFYCRJ1oy6Ue.jpg', 'cast_id': 29, 'character': 'Himself - Exercise Leader (uncredited)', 'credit_id': '58968cdcc3a36808ae00f87c', 'order': 46}, {'adult': False, 'gender': 1, 'id': 2100043, 'known_for_department': 'Acting', 'name': 'Sheila Lane', 'original_name': 'Sheila Lane', 'popularity': 0.001, 'profile_path': None, 'cast_id': 63, 'character': 'Bikini Girl (uncredited)', 'credit_id': '5b6694e6925141406408ac41', 'order': 47}, {'adult': False, 'gender': 2, 'id': 40577, 'known_for_department': 'Acting', 'name': 'Harry Lauter', 'original_name': 'Harry Lauter', 'popularity': 1.439, 'profile_path': '/b1bgW9udq1WtUth8SxU1bUUGsV1.jpg', 'cast_id': 64, 'character': 'Mr. Merrick (uncredited)', 'credit_id': '5b66950a0e0a267ef608d71e', 'order': 48}, {'adult': False, 'gender': 2, 'id': 120061, 'known_for_department': 'Acting', 'name': 'George J. Lewis', 'original_name': 'George J. Lewis', 'popularity': 2.19, 'profile_path': '/cgo8gX8VDRoQV42rgQKJU4ceP3p.jpg', 'cast_id': 65, 'character': 'Spanish Delegate (uncredited)', 'credit_id': '5b66952f0e0a267eeb095326', 'order': 49}, {'adult': False, 'gender': 1, 'id': 1745604, 'known_for_department': 'Acting', 'name': 'Jo Anne Loren', 'original_name': 'Jo Anne Loren', 'popularity': 0.001, 'profile_path': None, 'cast_id': 66, 'character': 'Bikini Girl (uncredited)', 'credit_id': '5b66955092514168b60149d1', 'order': 50}, {'adult': False, 'gender': 1, 'id': 1531369, 'known_for_department': 'Acting', 'name': 'Sandra Lynn', 'original_name': 'Sandra Lynn', 'popularity': 0.559, 'profile_path': '/zsnnhOYkwHrIer3k7D2wVBbaRBK.jpg', 'cast_id': 67, 'character': 'Teen Girl (uncredited)', 'credit_id': '5b6695890e0a267ee7094fd7', 'order': 51}, {'adult': False, 'gender': 2, 'id': 2132621, 'known_for_department': 'Acting', 'name': 'Todd Mason', 'original_name': 'Todd Mason', 'popularity': 0.077, 'profile_path': None, 'cast_id': 104, 'character': 'Reporter (uncredited)', 'credit_id': '5ba605309251412f07005e7b', 'order': 52}, {'adult': False, 'gender': 2, 'id': 1220744, 'known_for_department': 'Acting', 'name': 'Ed McCready', 'original_name': 'Ed McCready', 'popularity': 0.657, 'profile_path': '/wrhjrOXgcZHkxo9yUdtayRmuiHs.jpg', 'cast_id': 69, 'character': 'Cop (uncredited)', 'credit_id': '5b6695f9c3a368188f091a22', 'order': 53}, {'adult': False, 'gender': 1, 'id': 2100049, 'known_for_department': 'Acting', 'name': 'Shirley Melline', 'original_name': 'Shirley Melline', 'popularity': 0.001, 'profile_path': None, 'cast_id': 70, 'character': 'Ballet Teacher (uncredited)', 'credit_id': '5b6696200e0a267eed0983c4', 'order': 54}, {'adult': False, 'gender': 1, 'id': 91200, 'known_for_department': 'Acting', 'name': 'Mary Michael', 'original_name': 'Mary Michael', 'popularity': 1.477, 'profile_path': '/8cB5d8t41G7wQRMK3rrUSyAiFJw.jpg', 'cast_id': 71, 'character': 'Receptionist (uncredited)', 'credit_id': '5b669643c3a36818940a9ed4', 'order': 55}, {'adult': False, 'gender': 2, 'id': 2100050, 'known_for_department': 'Acting', 'name': 'Harry Minsey', 'original_name': 'Harry Minsey', 'popularity': 0.001, 'profile_path': None, 'cast_id': 72, 'character': 'Official (uncredited)', 'credit_id': '5b6696560e0a267ee5089c4f', 'order': 56}, {'adult': False, 'gender': 2, 'id': 1815991, 'known_for_department': 'Acting', 'name': 'Mike Morelli', 'original_name': 'Mike Morelli', 'popularity': 0.132, 'profile_path': None, 'cast_id': 73, 'character': 'Workman (uncredited)', 'credit_id': '5b669682c3a36818940a9f52', 'order': 57}, {'adult': False, 'gender': 2, 'id': 1368758, 'known_for_department': 'Acting', 'name': \"Monty O'Grady\", 'original_name': \"Monty O'Grady\", 'popularity': 0.788, 'profile_path': '/1yz4sQu0J0EAYvUWvjGgT0udItr.jpg', 'cast_id': 74, 'character': 'Official (uncredited)', 'credit_id': '5b6696b30e0a267ee70951c8', 'order': 58}, {'adult': False, 'gender': 2, 'id': 30500, 'known_for_department': 'Acting', 'name': \"James O'Hara\", 'original_name': \"James O'Hara\", 'popularity': 0.804, 'profile_path': '/9TVlLzmVdbNMqDmMUZJecDXn7vU.jpg', 'cast_id': 75, 'character': 'Airport Control Tower Man (uncredited)', 'credit_id': '5b6697789251414054085f66', 'order': 59}, {'adult': False, 'gender': 1, 'id': 1683140, 'known_for_department': 'Acting', 'name': 'Letitia Paquette', 'original_name': 'Letitia Paquette', 'popularity': 0.001, 'profile_path': None, 'cast_id': 76, 'character': 'Bikini Girl (uncredited)', 'credit_id': '5b66982d0e0a267eed0986c1', 'order': 60}, {'adult': False, 'gender': 1, 'id': 2100059, 'known_for_department': 'Acting', 'name': 'Anne Patterson', 'original_name': 'Anne Patterson', 'popularity': 0.001, 'profile_path': None, 'cast_id': 77, 'character': 'Teen Girl (uncredited)', 'credit_id': '5b669844c3a368189d08c3ea', 'order': 61}, {'adult': False, 'gender': 2, 'id': 91243, 'known_for_department': 'Crew', 'name': 'Charlie Picerni', 'original_name': 'Charlie Picerni', 'popularity': 4.392, 'profile_path': '/kRO5tGbhZOPnUH46keu01i5UYd.jpg', 'cast_id': 78, 'character': 'Guinea Pig #5 (uncredited)', 'credit_id': '5b669858925141404f07f082', 'order': 62}, {'adult': False, 'gender': 2, 'id': 1821527, 'known_for_department': 'Acting', 'name': 'Murray Pollack', 'original_name': 'Murray Pollack', 'popularity': 1.26, 'profile_path': '/7Qt3TpA2RRljqs9waLV7iXCrkUz.jpg', 'cast_id': 79, 'character': 'Police Officer (uncredited)', 'credit_id': '5b669886925141406a08a2c4', 'order': 63}, {'adult': False, 'gender': 1, 'id': 2100075, 'known_for_department': 'Acting', 'name': 'Ann Reece', 'original_name': 'Ann Reece', 'popularity': 0.001, 'profile_path': None, 'cast_id': 80, 'character': 'Bikini Girl (uncredited)', 'credit_id': '5b669eabc3a36818940aac95', 'order': 64}, {'adult': False, 'gender': 2, 'id': 165973, 'known_for_department': 'Acting', 'name': 'Wally Rose', 'original_name': 'Wally Rose', 'popularity': 1.606, 'profile_path': None, 'cast_id': 81, 'character': 'Minor Role (uncredited)', 'credit_id': '5b669edc9251414054086a2b', 'order': 65}, {'adult': False, 'gender': 2, 'id': 2100076, 'known_for_department': 'Acting', 'name': 'Clark Ross', 'original_name': 'Clark Ross', 'popularity': 0.318, 'profile_path': None, 'cast_id': 82, 'character': 'Official (uncredited)', 'credit_id': '5b669f10c3a36818860ab82f', 'order': 66}, {'adult': False, 'gender': 2, 'id': 1828639, 'known_for_department': 'Acting', 'name': 'Tony Santoro', 'original_name': 'Tony Santoro', 'popularity': 0.001, 'profile_path': '/etU1sgIjjWj0wTiDu45iYlx27Cl.jpg', 'cast_id': 83, 'character': 'Bar Patron (uncredited)', 'credit_id': '5b669f65c3a368189708a58d', 'order': 67}, {'adult': False, 'gender': 2, 'id': 1662013, 'known_for_department': 'Acting', 'name': 'Bernard Sell', 'original_name': 'Bernard Sell', 'popularity': 0.396, 'profile_path': None, 'cast_id': 84, 'character': 'Official (uncredited)', 'credit_id': '5b669f8f0e0a267ef80948cb', 'order': 68}, {'adult': False, 'gender': 2, 'id': 10072, 'known_for_department': 'Acting', 'name': 'Teru Shimada', 'original_name': 'Teru Shimada', 'popularity': 1.333, 'profile_path': '/l9ED8PjpLl3f7HBpED92PuHWbtT.jpg', 'cast_id': 85, 'character': 'Japanese Delegate (uncredited)', 'credit_id': '5b669fa8c3a368188809159f', 'order': 69}, {'adult': False, 'gender': 2, 'id': 1496053, 'known_for_department': 'Acting', 'name': 'Carl Sklover', 'original_name': 'Carl Sklover', 'popularity': 1.001, 'profile_path': '/yHFkElMPlDhiXTSDXDAo0tfnCps.jpg', 'cast_id': 86, 'character': 'Taxi Driver (uncredited)', 'credit_id': '5b669fbf0e0a267ee508a951', 'order': 70}, {'adult': False, 'gender': 1, 'id': 1679263, 'known_for_department': 'Acting', 'name': 'June Smaney', 'original_name': 'June Smaney', 'popularity': 1.432, 'profile_path': None, 'cast_id': 87, 'character': 'Club Patron (uncredited)', 'credit_id': '5b669fea0e0a267eed099489', 'order': 71}, {'adult': False, 'gender': 1, 'id': 1595381, 'known_for_department': 'Acting', 'name': 'Mabel Smaney', 'original_name': 'Mabel Smaney', 'popularity': 0.925, 'profile_path': None, 'cast_id': 88, 'character': 'Club Patron (uncredited)', 'credit_id': '5b66a0100e0a267eeb096846', 'order': 72}, {'adult': False, 'gender': 2, 'id': 1264978, 'known_for_department': 'Acting', 'name': 'Cap Somers', 'original_name': 'Cap Somers', 'popularity': 1.168, 'profile_path': '/61YP9GBVBMiXnsmR0Uewu2u2zuU.jpg', 'cast_id': 89, 'character': 'Seaman (uncredited)', 'credit_id': '5b66a030c3a368188809169f', 'order': 73}, {'adult': False, 'gender': 2, 'id': 1231329, 'known_for_department': 'Acting', 'name': 'Fred Stromsoe', 'original_name': 'Fred Stromsoe', 'popularity': 1.55, 'profile_path': '/A7GeLn5nDKrT5RcmJyLcUHYc3ye.jpg', 'cast_id': 90, 'character': 'Henchman (uncredited)', 'credit_id': '5b66a050c3a368189d08d00b', 'order': 74}, {'adult': False, 'gender': 2, 'id': 29626, 'known_for_department': 'Acting', 'name': 'William Tannen', 'original_name': 'William Tannen', 'popularity': 0.678, 'profile_path': '/kFaa9E96ueuQhG5MQxDWL7t6JLt.jpg', 'cast_id': 91, 'character': 'American Delegate (uncredited)', 'credit_id': '5b66a076c3a36818860aba98', 'order': 75}, {'adult': False, 'gender': 2, 'id': 2100082, 'known_for_department': 'Acting', 'name': 'Emmanuel Thomas', 'original_name': 'Emmanuel Thomas', 'popularity': 0.067, 'profile_path': '/oXdIK0he2oUau1kLbVjIRhlvz4o.jpg', 'cast_id': 92, 'character': 'Mr. Stanley - Globe Reporter (uncredited)', 'credit_id': '5b66a08cc3a368189d08d06a', 'order': 76}, {'adult': False, 'gender': 1, 'id': 1745609, 'known_for_department': 'Acting', 'name': 'Joan Thomas', 'original_name': 'Joan Thomas', 'popularity': 0.001, 'profile_path': None, 'cast_id': 93, 'character': 'Bikini Girl (uncredited)', 'credit_id': '5b66a0b90e0a267ee70961d6', 'order': 77}, {'adult': False, 'gender': 2, 'id': 1208039, 'known_for_department': 'Acting', 'name': 'Arthur Tovey', 'original_name': 'Arthur Tovey', 'popularity': 2.601, 'profile_path': '/fXDEmUPlWmIt5mic6fPL2r8eXRJ.jpg', 'cast_id': 27, 'character': 'Cop at Press Conference (uncredited)', 'credit_id': '55d2a940c3a368694e000a4c', 'order': 78}, {'adult': False, 'gender': 1, 'id': 2133202, 'known_for_department': 'Acting', 'name': 'Susan Tracy', 'original_name': 'Susan Tracy', 'popularity': 0.001, 'profile_path': None, 'cast_id': 105, 'character': 'Teen Girl (uncredited)', 'credit_id': '5ba6c3ac9251412ef1016d11', 'order': 79}, {'adult': False, 'gender': 2, 'id': 5041, 'known_for_department': 'Acting', 'name': 'Ivan Triesault', 'original_name': 'Ivan Triesault', 'popularity': 1.164, 'profile_path': '/pNrEdprQB7ON6M5CcBaBxCVxq5Y.jpg', 'cast_id': 95, 'character': 'West German Delegate (uncredited)', 'credit_id': '5b66a1600e0a267ef4092ccf', 'order': 80}, {'adult': False, 'gender': 1, 'id': 2100084, 'known_for_department': 'Acting', 'name': 'Sandy Tyler', 'original_name': 'Sandy Tyler', 'popularity': 0.001, 'profile_path': None, 'cast_id': 96, 'character': 'Teen Girl (uncredited)', 'credit_id': '5b66a1720e0a267ef109295d', 'order': 81}, {'adult': False, 'gender': 1, 'id': 2100085, 'known_for_department': 'Acting', 'name': 'Susan Walther', 'original_name': 'Susan Walther', 'popularity': 0.266, 'profile_path': None, 'cast_id': 97, 'character': 'Teen Girl (uncredited)', 'credit_id': '5b66a189c3a368189708a872', 'order': 82}, {'adult': False, 'gender': 2, 'id': 101484, 'known_for_department': 'Acting', 'name': 'Guy Way', 'original_name': 'Guy Way', 'popularity': 1.541, 'profile_path': None, 'cast_id': 98, 'character': 'Guinea Pig #2 (uncredited)', 'credit_id': '5b66a19e0e0a267ef1092997', 'order': 83}, {'adult': False, 'gender': 2, 'id': 145535, 'known_for_department': 'Acting', 'name': 'Van Williams', 'original_name': 'Van Williams', 'popularity': 2.873, 'profile_path': '/xDXUeFoNfkSwhLCn65Vr2wI07kr.jpg', 'cast_id': 28, 'character': 'President Lyndon B. Johnson (voice) (uncredited)', 'credit_id': '58968ca392514129c800d801', 'order': 84}, {'adult': False, 'gender': 2, 'id': 1850440, 'known_for_department': 'Acting', 'name': 'John Yates', 'original_name': 'John Yates', 'popularity': 0.083, 'profile_path': None, 'cast_id': 99, 'character': 'Reporter (uncredited)', 'credit_id': '5b66a1c00e0a267ee508b115', 'order': 85}, {'adult': False, 'gender': 1, 'id': 2100086, 'known_for_department': 'Acting', 'name': 'De De Young', 'original_name': 'De De Young', 'popularity': 0.001, 'profile_path': None, 'cast_id': 100, 'character': 'Bikini Girl (uncredited)', 'credit_id': '5b66a2cec3a36818940ab350', 'order': 86}, {'adult': False, 'gender': 2, 'id': 2565997, 'known_for_department': 'Acting', 'name': 'Jim Michael', 'original_name': 'Jim Michael', 'popularity': 0.342, 'profile_path': None, 'cast_id': 107, 'character': 'Pedestrian (uncredited)', 'credit_id': '60416212c525c400752ee0c0', 'order': 87}], 'crew': [{'adult': False, 'gender': 2, 'id': 27728, 'known_for_department': 'Directing', 'name': 'Leslie H. Martinson', 'original_name': 'Leslie H. Martinson', 'popularity': 0.883, 'profile_path': '/wljBCqwjlCjvtpnNXwKCOh7GuTU.jpg', 'credit_id': '52fe4363c3a36847f8050983', 'department': 'Directing', 'job': 'Director'}, {'adult': False, 'gender': 2, 'id': 4360, 'known_for_department': 'Sound', 'name': 'Nelson Riddle', 'original_name': 'Nelson Riddle', 'popularity': 0.619, 'profile_path': None, 'credit_id': '52fe4363c3a36847f805098f', 'department': 'Sound', 'job': 'Original Music Composer'}, {'adult': False, 'gender': 2, 'id': 27731, 'known_for_department': 'Sound', 'name': 'Roy Meadows', 'original_name': 'Roy Meadows', 'popularity': 0.099, 'profile_path': None, 'credit_id': '52fe4363c3a36847f80509ad', 'department': 'Sound', 'job': 'Sound Designer'}, {'adult': False, 'gender': 2, 'id': 10931, 'known_for_department': 'Writing', 'name': 'Lorenzo Semple Jr.', 'original_name': 'Lorenzo Semple Jr.', 'popularity': 1.648, 'profile_path': '/dqHwwCea2IJUvf8x3EL6cYqFEok.jpg', 'credit_id': '52fe4363c3a36847f80509a1', 'department': 'Writing', 'job': 'Screenplay'}, {'adult': False, 'gender': 2, 'id': 14355, 'known_for_department': 'Production', 'name': 'William Dozier', 'original_name': 'William Dozier', 'popularity': 0.578, 'profile_path': '/81nnUI5ZF5qv3hQOZc09a1XH0MM.jpg', 'credit_id': '52fe4363c3a36847f8050989', 'department': 'Production', 'job': 'Producer'}, {'adult': False, 'gender': 2, 'id': 27730, 'known_for_department': 'Art', 'name': 'Serge Krizman', 'original_name': 'Serge Krizman', 'popularity': 0.197, 'profile_path': '/dVomn3qDKvAPM3td9mkjQ2E5nwV.jpg', 'credit_id': '52fe4363c3a36847f805099b', 'department': 'Art', 'job': 'Art Direction'}, {'adult': False, 'gender': 2, 'id': 27729, 'known_for_department': 'Camera', 'name': 'Howard Schwartz', 'original_name': 'Howard Schwartz', 'popularity': 0.029, 'profile_path': None, 'credit_id': '52fe4363c3a36847f8050995', 'department': 'Camera', 'job': 'Director of Photography'}, {'adult': False, 'gender': 2, 'id': 27732, 'known_for_department': 'Sound', 'name': 'Harry M. Leonard', 'original_name': 'Harry M. Leonard', 'popularity': 0.861, 'profile_path': None, 'credit_id': '52fe4363c3a36847f80509b3', 'department': 'Sound', 'job': 'Sound Designer'}, {'adult': False, 'gender': 2, 'id': 3794, 'known_for_department': 'Writing', 'name': 'Bob Kane', 'original_name': 'Bob Kane', 'popularity': 5.572, 'profile_path': '/vuXwrlqaUydA4t5SFVdQkK9KsZL.jpg', 'credit_id': '6229c15ef9aa47001c0e3418', 'department': 'Writing', 'job': 'Characters'}, {'adult': False, 'gender': 2, 'id': 91243, 'known_for_department': 'Crew', 'name': 'Charlie Picerni', 'original_name': 'Charlie Picerni', 'popularity': 4.392, 'profile_path': '/kRO5tGbhZOPnUH46keu01i5UYd.jpg', 'credit_id': '6441f29ab3f6f505269daeeb', 'department': 'Crew', 'job': 'Stunts'}, {'adult': False, 'gender': 2, 'id': 30499, 'known_for_department': 'Production', 'name': 'Charles B. Fitzsimons', 'original_name': 'Charles B. Fitzsimons', 'popularity': 0.413, 'profile_path': '/kIWJC9JEiOgTIiba8GB5edyuzsQ.jpg', 'credit_id': '5a501766c3a3687553000197', 'department': 'Production', 'job': 'Associate Producer'}, {'adult': False, 'gender': 2, 'id': 2315142, 'known_for_department': 'Lighting', 'name': 'Bill Neff', 'original_name': 'Bill Neff', 'popularity': 0.008, 'profile_path': None, 'credit_id': '5ce554f30e0a26522accec8d', 'department': 'Lighting', 'job': 'Gaffer'}]}}\n"
     ]
    },
    {
     "name": "stdout",
     "output_type": "stream",
     "text": [
      "0\n",
      "Family, Adventure, Comedy, Science Fiction, Crime\n",
      "6.3\n",
      "['The Taking of Pelham One Two Three', \"Mother's Day (2010)\", 'I Spit on Your Grave', 'Dead Man Down', 'Gotti', 'Blood Ties', 'Joker', 'Hobo with a Shotgun', 'Texas Killing Fields', 'Funny Games (2007)', 'Tracers'] ['https://image.tmdb.org/t/p/w500/zzoPxWHnPa0eyfkMLgwbNvdEcVF.jpg', 'https://image.tmdb.org/t/p/w500/vNhywp9w1DVG6BytxKp4kjtaaGC.jpg', 'https://image.tmdb.org/t/p/w500/41YqDUpNkqQBNb1g6wjxauGonrC.jpg', 'https://image.tmdb.org/t/p/w500/sLzL1xG6JgVEEQ4DqSJpnJw3D2A.jpg', 'https://image.tmdb.org/t/p/w500/s8WdtuOBvfEsuPtbQVpNfEgd5aR.jpg', 'https://image.tmdb.org/t/p/w500/dfwvKXQFakRIasOFalz4pjP4afR.jpg', 'https://image.tmdb.org/t/p/w500/i9FTwNcdWQX5xzoIVtYUQHSR99p.jpg', 'https://image.tmdb.org/t/p/w500/udDclJoHjfjb8Ekgsd4FDteOkCU.jpg', 'https://image.tmdb.org/t/p/w500/xhBTO9n3fxy3HJt7WlR9h9vvVmk.jpg', 'https://image.tmdb.org/t/p/w500/2Nf0xeDuToLHysdkWj3aT5r42rC.jpg', 'https://image.tmdb.org/t/p/w500/fSADY0EEM7ntpK5IwumcGS4UNNE.jpg', 'https://image.tmdb.org/t/p/w500/7eOFi6eVxbbVmkDg0f1lYsUO4O2.jpg'] ('Family, Adventure, Comedy, Science Fiction, Crime', 'The Dynamic Duo faces four super-villains who plan to hold the world for ransom with the help of a secret invention that instantly dehydrates people.', '30 July 1966', '6.3') [{'iso_639_1': 'en', 'iso_3166_1': 'US', 'name': 'Batman bomb scene (full)', 'key': 'Nri3o0KFg-8', 'site': 'YouTube', 'size': 360, 'type': 'Clip', 'official': False, 'published_at': '2015-07-15T20:28:10.000Z', 'id': '654188dba58902012e4530b8'}, {'iso_639_1': 'en', 'iso_3166_1': 'US', 'name': 'Josh Olson on BATMAN', 'key': 'Fz5UIpv128g', 'published_at': '2013-10-14T19:03:21.000Z', 'site': 'YouTube', 'size': 720, 'type': 'Featurette', 'official': False, 'id': '533ec65cc3a3685448000c74'}, {'iso_639_1': 'en', 'iso_3166_1': 'US', 'name': 'Batman: The Movie (1966) - Theatrical Trailer', 'key': 'vvY5MgOgDUw', 'published_at': '2013-04-04T19:43:21.000Z', 'site': 'YouTube', 'size': 720, 'type': 'Trailer', 'official': False, 'id': '5a74bc940e0a266433026f83'}] ['https://image.tmdb.org/t/p/originalhttps://encrypted-tbn0.gstatic.com/images?q=tbn:ANd9GcTFXT94RTDPEqHrcC1pVOjBpVUMzQ4dZ3QgOfJWQp2aLSOxEgQGQmu_jsgXu1czdhE1tzo&usqp=CAU', 'https://image.tmdb.org/t/p/originalhttps://encrypted-tbn0.gstatic.com/images?q=tbn:ANd9GcTFXT94RTDPEqHrcC1pVOjBpVUMzQ4dZ3QgOfJWQp2aLSOxEgQGQmu_jsgXu1czdhE1tzo&usqp=CAU', 'https://image.tmdb.org/t/p/originalhttps://encrypted-tbn0.gstatic.com/images?q=tbn:ANd9GcTFXT94RTDPEqHrcC1pVOjBpVUMzQ4dZ3QgOfJWQp2aLSOxEgQGQmu_jsgXu1czdhE1tzo&usqp=CAU', 'https://image.tmdb.org/t/p/originalhttps://encrypted-tbn0.gstatic.com/images?q=tbn:ANd9GcTFXT94RTDPEqHrcC1pVOjBpVUMzQ4dZ3QgOfJWQp2aLSOxEgQGQmu_jsgXu1czdhE1tzo&usqp=CAU', 'https://image.tmdb.org/t/p/originalhttps://encrypted-tbn0.gstatic.com/images?q=tbn:ANd9GcTFXT94RTDPEqHrcC1pVOjBpVUMzQ4dZ3QgOfJWQp2aLSOxEgQGQmu_jsgXu1czdhE1tzo&usqp=CAU', 'https://image.tmdb.org/t/p/originalhttps://encrypted-tbn0.gstatic.com/images?q=tbn:ANd9GcTFXT94RTDPEqHrcC1pVOjBpVUMzQ4dZ3QgOfJWQp2aLSOxEgQGQmu_jsgXu1czdhE1tzo&usqp=CAU', 'https://image.tmdb.org/t/p/originalhttps://encrypted-tbn0.gstatic.com/images?q=tbn:ANd9GcTFXT94RTDPEqHrcC1pVOjBpVUMzQ4dZ3QgOfJWQp2aLSOxEgQGQmu_jsgXu1czdhE1tzo&usqp=CAU', 'https://image.tmdb.org/t/p/originalhttps://encrypted-tbn0.gstatic.com/images?q=tbn:ANd9GcTFXT94RTDPEqHrcC1pVOjBpVUMzQ4dZ3QgOfJWQp2aLSOxEgQGQmu_jsgXu1czdhE1tzo&usqp=CAU', 'https://image.tmdb.org/t/p/originalhttps://encrypted-tbn0.gstatic.com/images?q=tbn:ANd9GcTFXT94RTDPEqHrcC1pVOjBpVUMzQ4dZ3QgOfJWQp2aLSOxEgQGQmu_jsgXu1czdhE1tzo&usqp=CAU', 'https://image.tmdb.org/t/p/originalhttps://encrypted-tbn0.gstatic.com/images?q=tbn:ANd9GcTFXT94RTDPEqHrcC1pVOjBpVUMzQ4dZ3QgOfJWQp2aLSOxEgQGQmu_jsgXu1czdhE1tzo&usqp=CAU'] No reviews Found ['6.3']\n"
     ]
    },
    {
     "data": {
      "text/plain": [
       "['The Taking of Pelham One Two Three',\n",
       " \"Mother's Day (2010)\",\n",
       " 'I Spit on Your Grave',\n",
       " 'Dead Man Down',\n",
       " 'Gotti',\n",
       " 'Blood Ties',\n",
       " 'Joker',\n",
       " 'Hobo with a Shotgun',\n",
       " 'Texas Killing Fields',\n",
       " 'Funny Games (2007)',\n",
       " 'Tracers']"
      ]
     },
     "execution_count": 76,
     "metadata": {},
     "output_type": "execute_result"
    }
   ],
   "source": [
    "recommend('Batman (1966)')"
   ]
  },
  {
   "cell_type": "code",
   "execution_count": 59,
   "id": "6edcf849",
   "metadata": {},
   "outputs": [],
   "source": [
    "import re"
   ]
  },
  {
   "cell_type": "code",
   "execution_count": 60,
   "id": "c5821244",
   "metadata": {},
   "outputs": [],
   "source": [
    "def cast_poster(cast_id):\n",
    "    try:\n",
    "        path = 'https://image.tmdb.org/t/p/w500'+data['poster_path']\n",
    "        return path\n",
    "    except:\n",
    "        pth = 'https://img.pikbest.com/backgrounds/20200428/film-and-television-festival-retro-film-poster_2824252.jpg!f305cw'\n",
    "        return pth"
   ]
  },
  {
   "cell_type": "code",
   "execution_count": 66,
   "id": "409f5331",
   "metadata": {},
   "outputs": [],
   "source": [
    "def cast_details(cast):\n",
    "    \n",
    "    response = requests.get('https://api.themoviedb.org/3/search/person?api_key=75d6f4d358afd80023fc135735da8af5&query={}'.format(cast))\n",
    "    data = response.json()\n",
    "    cast_id = data['results'][0]['id']\n",
    "    response2 = requests.get('https://api.themoviedb.org/3/person/{}?api_key=75d6f4d358afd80023fc135735da8af5'.format(cast_id))\n",
    "    data2 = response2.json()\n",
    "    name = data2['name']\n",
    "    bio = data2['biography']\n",
    "    pob = data2['place_of_birth'] \n",
    "    try:\n",
    "        poster ='https://image.tmdb.org/t/p/original'+data2['profile_path']\n",
    "    \n",
    "        dob = data2['birthday']    \n",
    "    \n",
    "        movies_with_actor = main_features[main_features['cast'].apply(lambda x: cast in x)]\n",
    "        movies=movies_with_actor['title']\n",
    "        movie_names = [re.sub(r'^\\d+\\s+', '', movie) for movie in movies]\n",
    "        posters=[]\n",
    "        for movie in movie_names:\n",
    "            ip_id = (new_df.loc[new_df['title']==movie]).to_string(header=False,index=False,columns=['id'])\n",
    "            posters.append(fetch_poster(ip_id))\n",
    "    except Exception as e:\n",
    "        print(e)\n",
    "    return posters"
   ]
  },
  {
   "cell_type": "code",
   "execution_count": 68,
   "id": "e216bcd1",
   "metadata": {},
   "outputs": [
    {
     "name": "stdout",
     "output_type": "stream",
     "text": [
      "\"None of [Index(['id'], dtype='object')] are in the [columns]\"\n"
     ]
    },
    {
     "data": {
      "text/plain": [
       "[]"
      ]
     },
     "execution_count": 68,
     "metadata": {},
     "output_type": "execute_result"
    }
   ],
   "source": [
    "cast_details('Tobey Maguire')"
   ]
  },
  {
   "cell_type": "code",
   "execution_count": 69,
   "id": "a81090d4",
   "metadata": {},
   "outputs": [],
   "source": [
    "def get_runtime(movie_id):\n",
    "    details_url = f'https://api.themoviedb.org/3/movie/{movie_id}?api_key=75d6f4d358afd80023fc135735da8af5'\n",
    "    details_response = requests.get(details_url)\n",
    "    details_data = details_response.json()\n",
    "    \n",
    "    if 'runtime' in details_data:\n",
    "        runtime = details_data['runtime']\n",
    "    \n",
    "    return runtime"
   ]
  },
  {
   "cell_type": "code",
   "execution_count": null,
   "id": "ade7407a",
   "metadata": {},
   "outputs": [],
   "source": [
    "ids = df['id']\n",
    "posters = []\n",
    "for i in ids:\n",
    "    posters.append(fetch_poster(i))\n",
    "    \n",
    "posters"
   ]
  },
  {
   "cell_type": "code",
   "execution_count": null,
   "id": "2b947597",
   "metadata": {},
   "outputs": [],
   "source": [
    "posters[1000]"
   ]
  },
  {
   "cell_type": "code",
   "execution_count": null,
   "id": "0a5d21f7",
   "metadata": {},
   "outputs": [],
   "source": [
    "ip_id = (new_df.loc[new_df['title']=='Hidden Kisses']).to_string(header=False,index=True,columns=['id'])\n",
    "ip_id\n"
   ]
  },
  {
   "cell_type": "code",
   "execution_count": null,
   "id": "57316c51",
   "metadata": {},
   "outputs": [],
   "source": []
  },
  {
   "cell_type": "code",
   "execution_count": null,
   "id": "a964a437",
   "metadata": {},
   "outputs": [],
   "source": [
    "t = pd.read_csv('TMDB_revised.csv')"
   ]
  },
  {
   "cell_type": "code",
   "execution_count": null,
   "id": "c3bb2588",
   "metadata": {},
   "outputs": [],
   "source": [
    "ndf= t[['id','title','genres','runtime']]"
   ]
  },
  {
   "cell_type": "code",
   "execution_count": null,
   "id": "c5ef1355",
   "metadata": {},
   "outputs": [],
   "source": [
    "ndf[['Changeling']"
   ]
  },
  {
   "cell_type": "code",
   "execution_count": null,
   "id": "a325e989",
   "metadata": {},
   "outputs": [],
   "source": [
    "ndf['posters'] = posters"
   ]
  },
  {
   "cell_type": "code",
   "execution_count": null,
   "id": "1556d48e",
   "metadata": {},
   "outputs": [],
   "source": [
    "ndf"
   ]
  },
  {
   "cell_type": "code",
   "execution_count": null,
   "id": "5315f6ac",
   "metadata": {},
   "outputs": [],
   "source": [
    "ndf.to_csv('Filter.csv')"
   ]
  },
  {
   "cell_type": "code",
   "execution_count": null,
   "id": "e2e9ecfe",
   "metadata": {},
   "outputs": [],
   "source": []
  }
 ],
 "metadata": {
  "kernelspec": {
   "display_name": "Python 3 (ipykernel)",
   "language": "python",
   "name": "python3"
  },
  "language_info": {
   "codemirror_mode": {
    "name": "ipython",
    "version": 3
   },
   "file_extension": ".py",
   "mimetype": "text/x-python",
   "name": "python",
   "nbconvert_exporter": "python",
   "pygments_lexer": "ipython3",
   "version": "3.10.9"
  }
 },
 "nbformat": 4,
 "nbformat_minor": 5
}
